{
  "nbformat": 4,
  "nbformat_minor": 0,
  "metadata": {
    "colab": {
      "name": "Preprocessing for Machine Learning in Python.ipynb",
      "provenance": [],
      "authorship_tag": "ABX9TyNOlDWUz8G4XYY22n739yH4",
      "include_colab_link": true
    },
    "kernelspec": {
      "name": "python3",
      "display_name": "Python 3"
    }
  },
  "cells": [
    {
      "cell_type": "markdown",
      "metadata": {
        "id": "view-in-github",
        "colab_type": "text"
      },
      "source": [
        "<a href=\"https://colab.research.google.com/github/nihalbaig0/Datacamp/blob/master/Preprocessing_for_Machine_Learning_in_Python.ipynb\" target=\"_parent\"><img src=\"https://colab.research.google.com/assets/colab-badge.svg\" alt=\"Open In Colab\"/></a>"
      ]
    },
    {
      "cell_type": "markdown",
      "metadata": {
        "id": "XYDe70viTgOq"
      },
      "source": [
        "# Introduction to Data Preprocessing\n"
      ]
    },
    {
      "cell_type": "markdown",
      "metadata": {
        "id": "W3pD9n91TjXO"
      },
      "source": [
        "Missing data - rows\n",
        "Taking a look at the volunteer dataset again, we want to drop rows where the category_desc column values are missing. We're going to do this using boolean indexing, by checking to see if we have any null values, and then filtering the dataset so that we only have rows with those values."
      ]
    },
    {
      "cell_type": "markdown",
      "metadata": {
        "id": "wB-jW5nnTlTo"
      },
      "source": [
        "Check how many values are missing in the category_desc column using isnull() and sum().\n",
        "Subset the volunteer dataset by indexing by where category_desc is notnull(), and store in a new variable called volunteer_subset.\n",
        "Take a look at the .shape attribute of the new dataset, to verify it worked correctly."
      ]
    },
    {
      "cell_type": "code",
      "metadata": {
        "id": "F44OtwbGS-HX"
      },
      "source": [
        "# Check how many values are missing in the category_desc column\n",
        "print(volunteer['category_desc'].isnull().sum())\n",
        "\n",
        "# Subset the volunteer dataset\n",
        "volunteer_subset = volunteer[volunteer['category_desc'].notnull()]\n",
        "\n",
        "# Print out the shape of the subset\n",
        "print(volunteer_subset.shape)"
      ],
      "execution_count": null,
      "outputs": []
    },
    {
      "cell_type": "markdown",
      "metadata": {
        "id": "TBwGAmvqTm4g"
      },
      "source": [
        "Converting a column type\n",
        "If you take a look at the volunteer dataset types, you'll see that the column hits is type object. But, if you actually look at the column, you'll see that it consists of integers. Let's convert that column to type int."
      ]
    },
    {
      "cell_type": "markdown",
      "metadata": {
        "id": "qtsx4r3aTqQw"
      },
      "source": [
        "Take a look at the .head() of the hits column.\n",
        "Use the .astype function to convert the column to type int.\n",
        "Take a look at the dtypes of the dataset again, and notice that the column type has changed."
      ]
    },
    {
      "cell_type": "code",
      "metadata": {
        "id": "r30ukiVLTo-7"
      },
      "source": [
        "# Print the head of the hits column\n",
        "print(volunteer[\"hits\"].head())\n",
        "\n",
        "# Convert the hits column to type int\n",
        "volunteer[\"hits\"] = volunteer['hits'].astype(int)\n",
        "\n",
        "# Look at the dtypes of the dataset\n",
        "print(volunteer.dtypes)"
      ],
      "execution_count": null,
      "outputs": []
    },
    {
      "cell_type": "markdown",
      "metadata": {
        "id": "exg4N9qjTrlR"
      },
      "source": [
        "Stratified sampling\n",
        "We know that the distribution of variables in the category_desc column in the volunteer dataset is uneven. If we wanted to train a model to try to predict category_desc, we would want to train the model on a sample of data that is representative of the entire dataset. Stratified sampling is a way to achieve this."
      ]
    },
    {
      "cell_type": "markdown",
      "metadata": {
        "id": "cVlveqO9Tvrv"
      },
      "source": [
        "Create a volunteer_X dataset with all of the columns except category_desc.\n",
        "Create a volunteer_y training labels dataset.\n",
        "Split up the volunteer_X dataset using scikit-learn's train_test_split function and passing volunteer_y into the stratify= parameter.\n",
        "Take a look at the category_desc value counts on the training labels."
      ]
    },
    {
      "cell_type": "code",
      "metadata": {
        "id": "UGKmJnruTuEK"
      },
      "source": [
        "# Create a data with all columns except category_desc\n",
        "volunteer_X = volunteer.drop([\"category_desc\"], axis=1)\n",
        "\n",
        "# Create a category_desc labels dataset\n",
        "volunteer_y = volunteer[[\"category_desc\"]]\n",
        "\n",
        "# Use stratified sampling to split up the dataset according to the volunteer_y dataset\n",
        "X_train, X_test, y_train, y_test = train_test_split(volunteer_X, volunteer_y, stratify=volunteer_y)\n",
        "\n",
        "# Print out the category_desc counts on the training y labels\n",
        "print(y_train[\"category_desc\"].value_counts())"
      ],
      "execution_count": null,
      "outputs": []
    },
    {
      "cell_type": "markdown",
      "metadata": {
        "id": "FJ4a31BCTxq_"
      },
      "source": [
        "# Standardizing Data\n"
      ]
    },
    {
      "cell_type": "markdown",
      "metadata": {
        "id": "Wmq-ogCgT4K_"
      },
      "source": [
        "Modeling without normalizing\n",
        "Let's take a look at what might happen to your model's accuracy if you try to model data without doing some sort of standardization first. Here we have a subset of the wine dataset. One of the columns, Proline, has an extremely high variance compared to the other columns. This is an example of where a technique like log normalization would come in handy, which you'll learn about in the next section.\n",
        "\n",
        "The scikit-learn model training process should be familiar to you at this point, so we won't go too in-depth with it. You already have a k-nearest neighbors model available (knn) as well as the X and y sets you need to fit and score on."
      ]
    },
    {
      "cell_type": "markdown",
      "metadata": {
        "id": "u8JFvih-T5z_"
      },
      "source": [
        "Split up the X and y sets into training and test sets using train_test_split().\n",
        "Use the knn model's fit() method on the X_train data and y_train labels, to fit the model to the data.\n",
        "Print out the knn model's score() on the X_test data and y_test labels to evaluate the model."
      ]
    },
    {
      "cell_type": "code",
      "metadata": {
        "id": "hO27p-xdT1lh"
      },
      "source": [
        "# Split the dataset and labels into training and test sets\n",
        "X_train, X_test, y_train, y_test = train_test_split(X, y)\n",
        "\n",
        "# Fit the k-nearest neighbors model to the training data\n",
        "knn.fit(X_train,y_train)\n",
        "\n",
        "# Score the model on the test data\n",
        "print(knn.score(X_test,y_test))"
      ],
      "execution_count": null,
      "outputs": []
    },
    {
      "cell_type": "markdown",
      "metadata": {
        "id": "69VgmGi_T7GH"
      },
      "source": [
        "Log normalization in Python\n",
        "Now that we know that the Proline column in our wine dataset has a large amount of variance, let's log normalize it.\n",
        "\n",
        "Numpy has been imported as np in your workspace."
      ]
    },
    {
      "cell_type": "markdown",
      "metadata": {
        "id": "OiHXY5yTT_G3"
      },
      "source": [
        "Print out the variance of the Proline column for reference.\n",
        "Use the np.log() function on the Proline column to create a new, log-normalized column named Proline_log.\n",
        "Print out the variance of the Proline_log column to see the difference."
      ]
    },
    {
      "cell_type": "code",
      "metadata": {
        "id": "jkW8FzQhT9RW"
      },
      "source": [
        "# Print out the variance of the Proline column\n",
        "print(wine['Proline'].var())\n",
        "\n",
        "# Apply the log normalization function to the Proline column\n",
        "wine[\"Proline_log\"] = np.log(wine['Proline'])\n",
        "\n",
        "# Check the variance of the normalized Proline column\n",
        "print(wine[\"Proline_log\"].var())"
      ],
      "execution_count": null,
      "outputs": []
    },
    {
      "cell_type": "markdown",
      "metadata": {
        "id": "RCwqh9qMUAUC"
      },
      "source": [
        "Scaling data - standardizing columns\n",
        "Since we know that the Ash, Alcalinity of ash, and Magnesium columns in the wine dataset are all on different scales, let's standardize them in a way that allows for use in a linear model."
      ]
    },
    {
      "cell_type": "markdown",
      "metadata": {
        "id": "o5JdBlCGUDl3"
      },
      "source": [
        "Import StandardScaler from sklearn.preprocessing.\n",
        "Create the StandardScaler() method and store in a variable named ss.\n",
        "Create a subset of the wine DataFrame of the Ash, Alcalinity of ash, and Magnesium columns, store in a variable named wine_subset.\n",
        "Apply the ss.fit_transform method to the wine_subset DataFrame."
      ]
    },
    {
      "cell_type": "code",
      "metadata": {
        "id": "PUxp3jDWUCKW"
      },
      "source": [
        "# Import StandardScaler from scikit-learn\n",
        "from sklearn.preprocessing import StandardScaler\n",
        "\n",
        "# Create the scaler\n",
        "ss = StandardScaler()\n",
        "\n",
        "# Take a subset of the DataFrame you want to scale \n",
        "wine_subset = wine[[\"Ash\",\"Alcalinity of ash\",\"Magnesium\"]]\n",
        "\n",
        "# Apply the scaler to the DataFrame subset\n",
        "wine_subset_scaled = ss.fit_transform(wine_subset)"
      ],
      "execution_count": null,
      "outputs": []
    },
    {
      "cell_type": "markdown",
      "metadata": {
        "id": "n1ecHffCUFBP"
      },
      "source": [
        "KNN on non-scaled data\n",
        "Let's first take a look at the accuracy of a K-nearest neighbors model on the wine dataset without standardizing the data. The knn model as well as the X and y data and labels sets have been created already. Most of this process of creating models in scikit-learn should look familiar to you."
      ]
    },
    {
      "cell_type": "markdown",
      "metadata": {
        "id": "1M-qV3frUH_4"
      },
      "source": [
        "Split the dataset into training and test sets using train_test_split().\n",
        "Use the knn model's fit() method on the X_train data and y_train labels, to fit the model to the data.\n",
        "Print out the knn model's score() on the X_test data and y_test labels to evaluate the model."
      ]
    },
    {
      "cell_type": "code",
      "metadata": {
        "id": "CMqyMxqgUG31"
      },
      "source": [
        "# Split the dataset and labels into training and test sets\n",
        "X_train, X_test, y_train, y_test = train_test_split(X,y)\n",
        "\n",
        "# Fit the k-nearest neighbors model to the training data\n",
        "knn.fit(X_train, y_train)\n",
        "\n",
        "# Score the model on the test data\n",
        "print(knn.score(X_test, y_test))"
      ],
      "execution_count": null,
      "outputs": []
    },
    {
      "cell_type": "markdown",
      "metadata": {
        "id": "TR5Rsj18UJun"
      },
      "source": [
        "KNN on scaled data\n",
        "The accuracy score on the unscaled wine dataset was decent, but we can likely do better if we scale the dataset. The process is mostly the same as the previous exercise, with the added step of scaling the data. Once again, the knn model as well as the X and y data and labels set have already been created for you."
      ]
    },
    {
      "cell_type": "markdown",
      "metadata": {
        "id": "inS3tXYXUPu3"
      },
      "source": [
        "Create the StandardScaler() method, stored in a variable named ss.\n",
        "Apply the ss.fit_transform method to the X dataset.\n",
        "Use the knn model's fit() method on the X_train data and y_train labels, to fit the model to the data.\n",
        "Print out the knn model's score() on the X_test data and y_test labels to evaluate the model."
      ]
    },
    {
      "cell_type": "code",
      "metadata": {
        "id": "5_kjuoGUUOVd"
      },
      "source": [
        "# Create the scaling method.\n",
        "ss = StandardScaler()\n",
        "\n",
        "# Apply the scaling method to the dataset used for modeling.\n",
        "X_scaled = ss.fit_transform(X)\n",
        "X_train, X_test, y_train, y_test = train_test_split(X_scaled, y)\n",
        "\n",
        "# Fit the k-nearest neighbors model to the training data.\n",
        "knn.fit(X_train,y_train)\n",
        "\n",
        "# Score the model on the test data.\n",
        "print(knn.score(X_test,y_test))"
      ],
      "execution_count": null,
      "outputs": []
    },
    {
      "cell_type": "markdown",
      "metadata": {
        "id": "jGN0tJD2URLX"
      },
      "source": [
        "# Feature Engineering\n"
      ]
    },
    {
      "cell_type": "markdown",
      "metadata": {
        "id": "lk-owL3FUXZA"
      },
      "source": [
        "Encoding categorical variables - binary\n",
        "Take a look at the hiking dataset. There are several columns here that need encoding, one of which is the Accessible column, which needs to be encoded in order to be modeled. Accessible is a binary feature, so it has two values - either Y or N - so it needs to be encoded into 1s and 0s. Use scikit-learn's LabelEncoder method to do that transformation."
      ]
    },
    {
      "cell_type": "markdown",
      "metadata": {
        "id": "eKjmRkLkUZBP"
      },
      "source": [
        "Store LabelEncoder() in a variable named enc\n",
        "Using the encoder's fit_transform() function, encode the hiking dataset's \"Accessible\" column. Call the new column Accessible_enc.\n",
        "Compare the two columns side-by-side to see the encoding."
      ]
    },
    {
      "cell_type": "code",
      "metadata": {
        "id": "R_EMZoaDUToy"
      },
      "source": [
        "# Set up the LabelEncoder object\n",
        "enc = LabelEncoder()\n",
        "\n",
        "# Apply the encoding to the \"Accessible\" column\n",
        "hiking[\"Accessible_enc\"] = enc.fit_transform(hiking['Accessible'])\n",
        "\n",
        "# Compare the two columns\n",
        "print(hiking[[\"Accessible\",\"Accessible_enc\" ]].head())"
      ],
      "execution_count": null,
      "outputs": []
    },
    {
      "cell_type": "markdown",
      "metadata": {
        "id": "WfKGumNuUadI"
      },
      "source": [
        "Encoding categorical variables - one-hot\n",
        "One of the columns in the volunteer dataset, category_desc, gives category descriptions for the volunteer opportunities listed. Because it is a categorical variable with more than two categories, we need to use one-hot encoding to transform this column numerically. Use Pandas' get_dummies() function to do so."
      ]
    },
    {
      "cell_type": "markdown",
      "metadata": {
        "id": "yN7DoE6rUefJ"
      },
      "source": [
        "Call get_dummies() on the volunteer[\"category_desc\"] column to create the encoded columns and assign it to category_enc.\n",
        "Print out the head() of the category_enc variable to take a look at the encoded columns."
      ]
    },
    {
      "cell_type": "code",
      "metadata": {
        "id": "PsC5dT-YUdBs"
      },
      "source": [
        "# Transform the category_desc column\n",
        "category_enc = pd.get_dummies(volunteer[\"category_desc\"])\n",
        "\n",
        "# Take a look at the encoded columns\n",
        "print(category_enc.head())"
      ],
      "execution_count": null,
      "outputs": []
    },
    {
      "cell_type": "markdown",
      "metadata": {
        "id": "UmdeHUC6UfzR"
      },
      "source": [
        "Engineering numerical features - taking an average\n",
        "A good use case for taking an aggregate statistic to create a new feature is to take the mean of columns. Here, you have a DataFrame of running times named running_times_5k. For each name in the dataset, take the mean of their 5 run times."
      ]
    },
    {
      "cell_type": "markdown",
      "metadata": {
        "id": "kANlYXsDUjiY"
      },
      "source": [
        "Create a list of the columns you want to take the average of and store it in a variable named run_columns.\n",
        "Use apply to take the mean() of the list of columns and remember to set axis=1. Use lambda row: in the apply.\n",
        "Print out the DataFrame to see the mean column."
      ]
    },
    {
      "cell_type": "code",
      "metadata": {
        "id": "SPlpRFpIUiOy"
      },
      "source": [
        "# Create a list of the columns to average\n",
        "run_columns = ['run1', 'run2', 'run3', 'run4', 'run5']\n",
        "\n",
        "# Use apply to create a mean column\n",
        "running_times_5k[\"mean\"] = running_times_5k.apply(lambda row: row[run_columns].mean(), axis=1)\n",
        "\n",
        "# Take a look at the results\n",
        "print(running_times_5k)"
      ],
      "execution_count": null,
      "outputs": []
    },
    {
      "cell_type": "markdown",
      "metadata": {
        "id": "harWYwvxUlKH"
      },
      "source": [
        "Engineering numerical features - datetime\n",
        "There are several columns in the volunteer dataset comprised of datetimes. Let's take a look at the start_date_date column and extract just the month to use as a feature for modeling."
      ]
    },
    {
      "cell_type": "markdown",
      "metadata": {
        "id": "Pst5yMZ9Un9K"
      },
      "source": [
        "Use Pandas to_datetime() function on the volunteer[\"start_date_date\"] column and store it in a new column called start_date_converted.\n",
        "To retrieve just the month, apply a lambda function to volunteer[\"start_date_converted\"] that grabs the .month attribute from the row. Store this in a new column called start_date_month.\n",
        "Print the head() of just the start_date_converted and start_date_month columns.\n"
      ]
    },
    {
      "cell_type": "code",
      "metadata": {
        "id": "nD8NR_5TUm82"
      },
      "source": [
        "# First, convert string column to date column\n",
        "volunteer[\"start_date_converted\"] = pd.to_datetime(volunteer[\"start_date_date\"])\n",
        "\n",
        "# Extract just the month from the converted column\n",
        "volunteer[\"start_date_month\"] = volunteer[\"start_date_converted\"].apply(lambda row: row.month)\n",
        "\n",
        "# Take a look at the converted and new month columns\n",
        "print(volunteer[['start_date_converted', 'start_date_month']].head())"
      ],
      "execution_count": null,
      "outputs": []
    },
    {
      "cell_type": "markdown",
      "metadata": {
        "id": "NK_O2MRYUpQ_"
      },
      "source": [
        "Engineering features from strings - extraction\n",
        "The Length column in the hiking dataset is a column of strings, but contained in the column is the mileage for the hike. We're going to extract this mileage using regular expressions, and then use a lambda in Pandas to apply the extraction to the DataFrame."
      ]
    },
    {
      "cell_type": "markdown",
      "metadata": {
        "id": "Am8H_x-rUsUP"
      },
      "source": [
        "Create a pattern that will extract numbers and decimals from text, using \\d+ to get numbers and \\. to get decimals, and pass it into re's compile function.\n",
        "Use re's match function to search the text, passing in the pattern and the length text.\n",
        "Use the matched mile's group() attribute to extract the matched pattern, making sure to match group 0, and pass it into float.\n",
        "Apply the return_mileage() function to the hiking[\"Length\"] column."
      ]
    },
    {
      "cell_type": "code",
      "metadata": {
        "id": "zQSfbqx8Uq9Y"
      },
      "source": [
        "# Write a pattern to extract numbers and decimals\n",
        "def return_mileage(length):\n",
        "    pattern = re.compile(r\"\\d+\\.\\d+\")\n",
        "    \n",
        "    # Search the text for matches\n",
        "    mile = re.match(pattern, length)\n",
        "    \n",
        "    # If a value is returned, use group(0) to return the found value\n",
        "    if mile is not None:\n",
        "        return float(mile.group(0))\n",
        "        \n",
        "# Apply the function to the Length column and take a look at both columns\n",
        "hiking[\"Length_num\"] = hiking[\"Length\"].apply(lambda row: return_mileage(row))\n",
        "print(hiking[[\"Length\", \"Length_num\"]].head())"
      ],
      "execution_count": null,
      "outputs": []
    },
    {
      "cell_type": "markdown",
      "metadata": {
        "id": "rGzWX6TpUt0H"
      },
      "source": [
        "Engineering features from strings - tf/idf\n",
        "Let's transform the volunteer dataset's title column into a text vector, to use in a prediction task in the next exercise."
      ]
    },
    {
      "cell_type": "markdown",
      "metadata": {
        "id": "b-1RE_6yUxYh"
      },
      "source": [
        "Store the volunteer[\"title\"] column in a variable named title_text.\n",
        "Use the tfidf_vec vectorizer's fit_transform() function on title_text to transform the text into a tf-idf vector."
      ]
    },
    {
      "cell_type": "code",
      "metadata": {
        "id": "5akabl8zUv9Y"
      },
      "source": [
        "# Take the title text\n",
        "title_text = volunteer[\"title\"]\n",
        "\n",
        "# Create the vectorizer method\n",
        "tfidf_vec = TfidfVectorizer()\n",
        "\n",
        "# Transform the text into tf-idf vectors\n",
        "text_tfidf = tfidf_vec.fit_transform(title_text)"
      ],
      "execution_count": null,
      "outputs": []
    },
    {
      "cell_type": "markdown",
      "metadata": {
        "id": "IEmgLBNFUy0O"
      },
      "source": [
        "Text classification using tf/idf vectors\n",
        "Now that we've encoded the volunteer dataset's title column into tf/idf vectors, let's use those vectors to try to predict the category_desc column."
      ]
    },
    {
      "cell_type": "markdown",
      "metadata": {
        "id": "dmNVzKz-U2lm"
      },
      "source": [
        "Using train_test_split, split the text_tfidf vector, along with your y variable, into training and test sets. Set the stratify parameter equal to y, since the class distribution is uneven. Notice that we have to run the toarray() method on the tf/idf vector, in order to get in it the proper format for scikit-learn.\n",
        "Use Naive Bayes' fit() method on the X_train and y_train variables.\n",
        "Print out the score() of the X_test and y_test variables"
      ]
    },
    {
      "cell_type": "code",
      "metadata": {
        "id": "778DWHZMU1FT"
      },
      "source": [
        "# Split the dataset according to the class distribution of category_desc\n",
        "y = volunteer[\"category_desc\"]\n",
        "X_train, X_test, y_train, y_test = train_test_split(text_tfidf.toarray(), y, stratify=y)\n",
        "\n",
        "# Fit the model to the training data\n",
        "nb.fit(X_train, y_train)\n",
        "\n",
        "# Print out the model's accuracy\n",
        "print(nb.score(X_test, y_test))"
      ],
      "execution_count": null,
      "outputs": []
    },
    {
      "cell_type": "markdown",
      "metadata": {
        "id": "mOjJjlvsU5nY"
      },
      "source": [
        "# Selecting features for modeling"
      ]
    },
    {
      "cell_type": "markdown",
      "metadata": {
        "id": "43Q3k5InVHKY"
      },
      "source": [
        "Selecting relevant features\n",
        "Now let's identify the redundant columns in the volunteer dataset and perform feature selection on the dataset to return a DataFrame of the relevant features.\n",
        "\n",
        "For example, if you explore the volunteer dataset in the console, you'll see three features which are related to location: locality, region, and postalcode. They contain repeated information, so it would make sense to keep only one of the features.\n",
        "\n",
        "There are also features that have gone through the feature engineering process: columns like Education and Emergency Preparedness are a product of encoding the categorical variable category_desc, so category_desc itself is redundant now.\n",
        "\n",
        "Take a moment to examine the features of volunteer in the console, and try to identify the redundant features."
      ]
    },
    {
      "cell_type": "markdown",
      "metadata": {
        "id": "pcWti3e1VI-y"
      },
      "source": [
        "Create a list of redundant column names and store it in the to_drop variable:\n",
        "Out of all the location-related features, keep only postcode.\n",
        "Features that have gone through the feature engineering process are redundant as well.\n",
        "Drop the columns from the dataset using .drop().\n",
        "Print out the .head() of the DataFrame to see the selected columns."
      ]
    },
    {
      "cell_type": "code",
      "metadata": {
        "id": "uLfDp2ONU8oY"
      },
      "source": [
        "# Create a list of redundant column names to drop\n",
        "to_drop = [\"category_desc\", \"created_date\", \"locality\", \"region\", \"vol_requests\"]\n",
        "\n",
        "# Drop those columns from the dataset\n",
        "volunteer_subset = volunteer.drop(to_drop, axis=1)\n",
        "\n",
        "# Print out the head of the new dataset\n",
        "print(volunteer_subset.head())"
      ],
      "execution_count": null,
      "outputs": []
    },
    {
      "cell_type": "markdown",
      "metadata": {
        "id": "vIClGmnhVKj3"
      },
      "source": [
        "Checking for correlated features\n",
        "Let's take a look at the wine dataset again, which is made up of continuous, numerical features. Run Pearson's correlation coefficient on the dataset to determine which columns are good candidates for eliminating. Then, remove those columns from the DataFrame."
      ]
    },
    {
      "cell_type": "markdown",
      "metadata": {
        "id": "jEeBZ7PnVNlP"
      },
      "source": [
        "Print out the column correlations of the wine dataset using corr().\n",
        "Take a minute to look at the correlations. Identify a column where the correlation value is greater than 0.75 at least twice and store it in the to_drop variable.\n",
        "Drop that column from the DataFrame using drop()."
      ]
    },
    {
      "cell_type": "code",
      "metadata": {
        "id": "6L7paCwlVMXt"
      },
      "source": [
        "# Print out the column correlations of the wine dataset\n",
        "print(wine.corr())\n",
        "\n",
        "# Take a minute to find the column where the correlation value is greater than 0.75 at least twice\n",
        "to_drop = \"Flavanoids\"\n",
        "\n",
        "# Drop that column from the DataFrame\n",
        "wine = wine.drop(to_drop,axis=1)"
      ],
      "execution_count": null,
      "outputs": []
    },
    {
      "cell_type": "markdown",
      "metadata": {
        "id": "7277GeE3VO-P"
      },
      "source": [
        "Exploring text vectors, part 1\n",
        "Let's expand on the text vector exploration method we just learned about, using the volunteer dataset's title tf/idf vectors. In this first part of text vector exploration, we're going to add to that function we learned about in the slides. We'll return a list of numbers with the function. In the next exercise, we'll write another function to collect the top words across all documents, extract them, and then use that list to filter down our text_tfidf vector."
      ]
    },
    {
      "cell_type": "markdown",
      "metadata": {
        "id": "Q_2mZ-eGVRNK"
      },
      "source": [
        "Add parameters called original_vocab, for the tfidf_vec.vocabulary_, and top_n.\n",
        "Call pd.Series on the zipped dictionary. This will make it easier to operate on.\n",
        "Use the sort_values function to sort the series and slice the index up to top_n words.\n",
        "Call the function, setting original_vocab=tfidf_vec.vocabulary_, setting vector_index=8 to grab the 9th row, and setting top_n=3, to grab the top 3 weighted words."
      ]
    },
    {
      "cell_type": "code",
      "metadata": {
        "id": "1gEuKKgJVQ2B"
      },
      "source": [
        "# Add in the rest of the parameters\n",
        "def return_weights(vocab, original_vocab, vector, vector_index, top_n):\n",
        "    zipped = dict(zip(vector[vector_index].indices, vector[vector_index].data))\n",
        "    \n",
        "    # Let's transform that zipped dict into a series\n",
        "    zipped_series = pd.Series({vocab[i]:zipped[i] for i in vector[vector_index].indices})\n",
        "    \n",
        "    # Let's sort the series to pull out the top n weighted words\n",
        "    zipped_index = zipped_series.sort_values(ascending=False)[:top_n].index\n",
        "    return [original_vocab[i] for i in zipped_index]\n",
        "\n",
        "# Print out the weighted words\n",
        "print(return_weights(vocab, tfidf_vec.vocabulary_, text_tfidf, 8, 3))"
      ],
      "execution_count": null,
      "outputs": []
    },
    {
      "cell_type": "markdown",
      "metadata": {
        "id": "6ZwKvV0zVT_g"
      },
      "source": [
        "Exploring text vectors, part 2\n",
        "Using the function we wrote in the previous exercise, we're going to extract the top words from each document in the text vector, return a list of the word indices, and use that list to filter the text vector down to those top words."
      ]
    },
    {
      "cell_type": "markdown",
      "metadata": {
        "id": "2DWWUqL6VXRy"
      },
      "source": [
        "Call return_weights to return the top weighted words for that document.\n",
        "Call set on the returned filter_list so we don't get duplicated numbers.\n",
        "Call words_to_filter, passing in the following parameters: vocab for the vocab parameter, tfidf_vec.vocabulary_ for the original_vocab parameter, text_tfidf for the vector parameter, and 3 to grab the top_n 3 weighted words from each document.\n",
        "Finally, pass that filtered_words set into a list to use as a filter for the text vector."
      ]
    },
    {
      "cell_type": "code",
      "metadata": {
        "id": "R8XfIBbbVV2-"
      },
      "source": [
        "def words_to_filter(vocab, original_vocab, vector, top_n):\n",
        "    filter_list = []\n",
        "    for i in range(0, vector.shape[0]):\n",
        "    \n",
        "        # Here we'll call the function from the previous exercise, and extend the list we're creating\n",
        "        filtered = return_weights(vocab, original_vocab, vector, i, top_n)\n",
        "        filter_list.extend(filtered)\n",
        "    # Return the list in a set, so we don't get duplicate word indices\n",
        "    return set(filter_list)\n",
        "\n",
        "# Call the function to get the list of word indices\n",
        "filtered_words = words_to_filter(vocab, tfidf_vec.vocabulary_, text_tfidf, 3)\n",
        "\n",
        "# By converting filtered_words back to a list, we can use it to filter the columns in the text vector\n",
        "filtered_text = text_tfidf[:, list(filtered_words)]"
      ],
      "execution_count": null,
      "outputs": []
    },
    {
      "cell_type": "markdown",
      "metadata": {
        "id": "rplgEvxFVYko"
      },
      "source": [
        "Training Naive Bayes with feature selection\n",
        "Let's re-run the Naive Bayes text classification model we ran at the end of chapter 3, with our selection choices from the previous exercise, on the volunteer dataset's title and category_desc columns."
      ]
    },
    {
      "cell_type": "markdown",
      "metadata": {
        "id": "-P8HJIReVcGv"
      },
      "source": [
        "Use train_test_split on the filtered_text text vector, the y labels (which is the category_desc labels), and pass the y set to the stratify parameter, since we have an uneven class distribution.\n",
        "Fit the nb Naive Bayes model to train_X and train_y.\n",
        "Score the nb model on the test_X and test_y test sets."
      ]
    },
    {
      "cell_type": "code",
      "metadata": {
        "id": "latAv0pvVa8K"
      },
      "source": [
        "# Split the dataset according to the class distribution of category_desc, using the filtered_text vector\n",
        "train_X, test_X, train_y, test_y = train_test_split(filtered_text.toarray(), y, stratify=y)\n",
        "\n",
        "# Fit the model to the training data\n",
        "nb.fit(train_X,train_y)\n",
        "\n",
        "# Print out the model's accuracy\n",
        "print(nb.score(test_X,test_y))"
      ],
      "execution_count": null,
      "outputs": []
    },
    {
      "cell_type": "markdown",
      "metadata": {
        "id": "d5xjoc6AVdi4"
      },
      "source": [
        "Using PCA\n",
        "Let's apply PCA to the wine dataset, to see if we can get an increase in our model's accuracy."
      ]
    },
    {
      "cell_type": "markdown",
      "metadata": {
        "id": "e4SeMwO-Vg13"
      },
      "source": [
        "Set up the PCA object. You'll use PCA on the wine dataset minus its label for Type, stored in the variable wine_X.\n",
        "Apply PCA to wine_X using pca's fit_transform method and store the transformed vector in transformed_X.\n",
        "Print out the explained_variance_ratio_ attribute of pca to check how much variance is explained by each component."
      ]
    },
    {
      "cell_type": "code",
      "metadata": {
        "id": "kgyHANr7VfP2"
      },
      "source": [
        "from sklearn.decomposition import PCA\n",
        "\n",
        "# Set up PCA and the X vector for diminsionality reduction\n",
        "pca = PCA()\n",
        "wine_X = wine.drop(\"Type\", axis=1)\n",
        "\n",
        "# Apply PCA to the wine dataset X vector\n",
        "transformed_X = pca.fit_transform(wine_X)\n",
        "\n",
        "# Look at the percentage of variance explained by the different components\n",
        "print(pca.explained_variance_ratio_)"
      ],
      "execution_count": null,
      "outputs": []
    },
    {
      "cell_type": "markdown",
      "metadata": {
        "id": "e254fwvvVicQ"
      },
      "source": [
        "Training a model with PCA\n",
        "Now that we have run PCA on the wine dataset, let's try training a model with it."
      ]
    },
    {
      "cell_type": "markdown",
      "metadata": {
        "id": "D3X1JGmaVluv"
      },
      "source": [
        "Split the transformed_X vector and the y labels set into training and test sets using train_test_split.\n",
        "Fit the knn model using the fit() function on the X_wine_train and y_wine_train sets.\n",
        "Print out the score using knn's score() function on X_wine_test and y_wine_test."
      ]
    },
    {
      "cell_type": "code",
      "metadata": {
        "id": "XKjazHXRVkue"
      },
      "source": [
        "# Split the transformed X and the y labels into training and test sets\n",
        "X_wine_train, X_wine_test, y_wine_train, y_wine_test = train_test_split(transformed_X,y)\n",
        "\n",
        "# Fit knn to the training data\n",
        "knn.fit(X_wine_train,y_wine_train)\n",
        "\n",
        "# Score knn on the test data and print it out\n",
        "knn.score(X_wine_test,y_wine_test)"
      ],
      "execution_count": null,
      "outputs": []
    },
    {
      "cell_type": "markdown",
      "metadata": {
        "id": "ySGMvJekVnGn"
      },
      "source": [
        "# Putting it all together"
      ]
    },
    {
      "cell_type": "markdown",
      "metadata": {
        "id": "_kJMhlKeVuJq"
      },
      "source": [
        "Checking column types\n",
        "Take a look at the UFO dataset's column types using the dtypes attribute. Two columns jump out for transformation: the seconds column, which is a numeric column but is being read in as object, and the date column, which can be transformed into the datetime type. That will make our feature engineering efforts easier later on."
      ]
    },
    {
      "cell_type": "markdown",
      "metadata": {
        "id": "N8ipjVkpVwrw"
      },
      "source": [
        "Print out the dtypes of the ufo dataset.\n",
        "Change the type of the seconds column by passing the float type into the astype() method.\n",
        "Change the type of the date column by passing ufo[\"date\"] into the pd.to_datetime() function.\n",
        "Print out the dtypes of the seconds and date columns, to make sure it worked."
      ]
    },
    {
      "cell_type": "code",
      "metadata": {
        "id": "y0STkQYDVsKu"
      },
      "source": [
        "# Check the column types\n",
        "print(ufo.dtypes)\n",
        "\n",
        "# Change the type of seconds to float\n",
        "ufo[\"seconds\"] = ufo[\"seconds\"].astype(\"float\")\n",
        "# Change the date column to type datetime\n",
        "ufo[\"date\"] = pd.to_datetime(ufo[\"date\"])\n",
        "\n",
        "# Check the column types\n",
        "print(ufo[[\"seconds\",\"date\"]].dtypes)"
      ],
      "execution_count": null,
      "outputs": []
    },
    {
      "cell_type": "markdown",
      "metadata": {
        "id": "2VGMZ2tuVypE"
      },
      "source": [
        "Dropping missing data\n",
        "Let's remove some of the rows where certain columns have missing values. We're going to look at the length_of_time column, the state column, and the type column. If any of the values in these columns are missing, we're going to drop the rows."
      ]
    },
    {
      "cell_type": "markdown",
      "metadata": {
        "id": "ilip_0b_V2jY"
      },
      "source": [
        "Check how many values are missing in the length_of_time, state, and type columns, using isnull() to check for nulls and sum() to calculate how many exist.\n",
        "Use boolean indexing to filter out the rows with those missing values, using notnull() to check the column. Here, we can chain together each column we want to check.\n",
        "Print out the shape of the new ufo_no_missing dataset."
      ]
    },
    {
      "cell_type": "code",
      "metadata": {
        "id": "ZYES2_-7V096"
      },
      "source": [
        "# Check how many values are missing in the length_of_time, state, and type columns\n",
        "print(ufo[[\"length_of_time\",\"state\", \"type\"]].isnull().sum())\n",
        "\n",
        "# Keep only rows where length_of_time, state, and type are not null\n",
        "ufo_no_missing = ufo[ufo[\"length_of_time\"].notnull() & \n",
        "          ufo[\"state\"].notnull() & \n",
        "          ufo[\"type\"].notnull()]\n",
        "\n",
        "# Print out the shape of the new dataset\n",
        "print(ufo_no_missing.shape)"
      ],
      "execution_count": null,
      "outputs": []
    },
    {
      "cell_type": "markdown",
      "metadata": {
        "id": "r1iqod8qV4HP"
      },
      "source": [
        "Extracting numbers from strings\n",
        "The length_of_time field in the UFO dataset is a text field that has the number of minutes within the string. Here, you'll extract that number from that text field using regular expressions."
      ]
    },
    {
      "cell_type": "markdown",
      "metadata": {
        "id": "g9MmupHBV7kf"
      },
      "source": [
        "Pass \\d+ into re.compile() in the pattern variable to designate that we want to grab as many digits as possible from the string.\n",
        "Into re.match(), pass the pattern we just created, as well as the time_string we want to extract from.\n",
        "Use lambda within the apply() method to perform the extraction.\n",
        "Print out the head() of both the length_of_time and minutes columns to compare."
      ]
    },
    {
      "cell_type": "code",
      "metadata": {
        "id": "xkHnlSXiV59U"
      },
      "source": [
        "def return_minutes(time_string):\n",
        "\n",
        "    # Use \\d+ to grab digits\n",
        "    pattern = re.compile(r\"\\d+\")\n",
        "    \n",
        "    # Use match on the pattern and column\n",
        "    num = re.match(pattern, time_string)\n",
        "    if num is not None:\n",
        "        return int(num.group(0))\n",
        "        \n",
        "# Apply the extraction to the length_of_time column\n",
        "ufo[\"minutes\"] = ufo[\"length_of_time\"].apply(lambda row: return_minutes(row))\n",
        "\n",
        "# Take a look at the head of both of the columns\n",
        "print(ufo[[\"length_of_time\",\"minutes\"]].head())"
      ],
      "execution_count": null,
      "outputs": []
    },
    {
      "cell_type": "markdown",
      "metadata": {
        "id": "qqtV3WHJV9QP"
      },
      "source": [
        "Identifying features for standardization\n",
        "In this section, you'll investigate the variance of columns in the UFO dataset to determine which features should be standardized. After taking a look at the variances of the seconds and minutes column, you'll see that the variance of the seconds column is extremely high. Because seconds and minutes are related to each other (an issue we'll deal with when we select features for modeling), let's log normlize the seconds column."
      ]
    },
    {
      "cell_type": "markdown",
      "metadata": {
        "id": "-jmUL5LPWAhY"
      },
      "source": [
        "Use the var() method on the seconds and minutes columns to check the variance. Notice how high the variance is on the seconds column.\n",
        "Using np.log() perform log normalization on the seconds column, transforming it into a new column named seconds_log.\n",
        "Print out the variance of the seconds_log column."
      ]
    },
    {
      "cell_type": "code",
      "metadata": {
        "id": "dtuemZGOV_Rz"
      },
      "source": [
        "# Check the variance of the seconds and minutes columns\n",
        "print(ufo[[\"seconds\",\"minutes\"]].var())\n",
        "\n",
        "# Log normalize the seconds column\n",
        "ufo[\"seconds_log\"] = np.log(ufo[\"seconds\"])\n",
        "\n",
        "# Print out the variance of just the seconds_log column\n",
        "print(ufo[\"seconds_log\"].var())"
      ],
      "execution_count": null,
      "outputs": []
    },
    {
      "cell_type": "markdown",
      "metadata": {
        "id": "QxeWi0mYWB6P"
      },
      "source": [
        "Encoding categorical variables\n",
        "There are couple of columns in the UFO dataset that need to be encoded before they can be modeled through scikit-learn. You'll do that transformation here, using both binary and one-hot encoding methods."
      ]
    },
    {
      "cell_type": "markdown",
      "metadata": {
        "id": "S3htfktZWFNB"
      },
      "source": [
        "Using apply(), write a lambda that returns a 1 if the value is us, else return 0. This is something we learned in Chapter 3 if you need a refresher.\n",
        "Next, print out the number of unique() values of the type column.\n",
        "Using pd.get_dummies(), create a one-hot encoded set of the type column.\n",
        "Finally, use pd.concat() to concatenate the ufo dataset to the type_set encoded variables."
      ]
    },
    {
      "cell_type": "code",
      "metadata": {
        "id": "FhwTlxqwWD2A"
      },
      "source": [
        "# Use Pandas to encode us values as 1 and others as 0\n",
        "ufo[\"country_enc\"] = ufo[\"country\"].apply(lambda x: 1 if x==\"us\" else 0)\n",
        "\n",
        "# Print the number of unique type values\n",
        "print(len(ufo[\"type\"].unique()))\n",
        "\n",
        "# Create a one-hot encoded set of the type values\n",
        "type_set = pd.get_dummies(ufo[\"type\"])\n",
        "\n",
        "# Concatenate this set back to the ufo DataFrame\n",
        "ufo = pd.concat([ufo, type_set], axis=1)"
      ],
      "execution_count": null,
      "outputs": []
    },
    {
      "cell_type": "markdown",
      "metadata": {
        "id": "kvKUf6s4WGgA"
      },
      "source": [
        "Features from dates\n",
        "Another feature engineering task to perform is month and year extraction. Perform this task on the date column of the ufo dataset."
      ]
    },
    {
      "cell_type": "markdown",
      "metadata": {
        "id": "GGpAtKT8WJ5c"
      },
      "source": [
        "Print out the head() of the date column.\n",
        "Using apply(), lambda, and the .month attribute, extract the month from the date column.\n",
        "Using apply(), lambda, and the .year attribute, extract the year from the date column.\n",
        "Take a look at the head() of the date, month, and year columns."
      ]
    },
    {
      "cell_type": "code",
      "metadata": {
        "id": "AOwe4DmPWIl8"
      },
      "source": [
        "# Look at the first 5 rows of the date column\n",
        "print(ufo[\"date\"].head())\n",
        "\n",
        "# Extract the month from the date column\n",
        "ufo[\"month\"] = ufo[\"date\"].apply(lambda row: row.month)\n",
        "\n",
        "# Extract the year from the date column\n",
        "ufo[\"year\"] = ufo[\"date\"].apply(lambda row: row.year)\n",
        "\n",
        "# Take a look at the head of all three columns\n",
        "print(ufo[[\"date\", \"month\", \"year\"]].head())"
      ],
      "execution_count": null,
      "outputs": []
    },
    {
      "cell_type": "markdown",
      "metadata": {
        "id": "yAhJHAgHWLKf"
      },
      "source": [
        "Text vectorization\n",
        "Let's transform the desc column in the UFO dataset into tf/idf vectors, since there's likely something we can learn from this field."
      ]
    },
    {
      "cell_type": "markdown",
      "metadata": {
        "id": "E9nlz63IWNbJ"
      },
      "source": [
        "Print out the head() of the ufo[\"desc\"] column.\n",
        "Set vec equal to the TfidfVectorizer() object.\n",
        "Use vec's fit_transform() method on the ufo[\"desc\"] column.\n",
        "Print out the shape of the desc_tfidf vector, to take a look at the number of columns this created. The output is in the shape (rows, columns)."
      ]
    },
    {
      "cell_type": "code",
      "metadata": {
        "id": "qUWlj8uYWNAH"
      },
      "source": [
        "# Take a look at the head of the desc field\n",
        "print(ufo['desc'].head())\n",
        "\n",
        "# Create the tfidf vectorizer object\n",
        "vec = TfidfVectorizer()\n",
        "\n",
        "# Use vec's fit_transform method on the desc field\n",
        "desc_tfidf = vec.fit_transform(ufo['desc'])\n",
        "\n",
        "# Look at the number of columns this creates\n",
        "print(desc_tfidf.shape)"
      ],
      "execution_count": null,
      "outputs": []
    },
    {
      "cell_type": "markdown",
      "metadata": {
        "id": "blixbwIbWPrW"
      },
      "source": [
        "Selecting the ideal dataset\n",
        "Let's get rid of some of the unnecessary features. Because we have an encoded country column, country_enc, keep it and drop other columns related to location: city, country, lat, long, state.\n",
        "\n",
        "We have columns related to month and year, so we don't need the date or recorded columns.\n",
        "\n",
        "We vectorized desc, so we don't need it anymore. For now we'll keep type.\n",
        "\n",
        "We'll keep seconds_log and drop seconds and minutes.\n",
        "\n",
        "Let's also get rid of the length_of_time column, which is unnecessary after extracting minutes."
      ]
    },
    {
      "cell_type": "markdown",
      "metadata": {
        "id": "q2pc0jdBWTa2"
      },
      "source": [
        "Use .corr() to run the correlation on seconds, seconds_log, and minutes in the ufo DataFrame.\n",
        "Make a list of columns to drop, in alphabetical order.\n",
        "Use drop() to drop the columns.\n",
        "Use the words_to_filter() function we created previously. Pass in vocab, vec.vocabulary_, desc_tfidf, and let's keep the top 4 words as the last parameter."
      ]
    },
    {
      "cell_type": "code",
      "metadata": {
        "id": "BejmDRbBWRdo"
      },
      "source": [
        "# Check the correlation between the seconds, seconds_log, and minutes columns\n",
        "print(ufo[['seconds','seconds_log','minutes']].corr())\n",
        "\n",
        "# Make a list of features to drop\n",
        "to_drop = ['city','country','date','desc','lat','long','state','length_of_time','seconds','minutes','recorded']\n",
        "\n",
        "# Drop those features\n",
        "ufo_dropped = ufo.drop(to_drop,axis=1)\n",
        "\n",
        "# Let's also filter some words out of the text vector we created\n",
        "filtered_words = words_to_filter(vocab, vec.vocabulary_, desc_tfidf, 4)"
      ],
      "execution_count": null,
      "outputs": []
    },
    {
      "cell_type": "markdown",
      "metadata": {
        "id": "_80ugUGnWUuf"
      },
      "source": [
        "Modeling the UFO dataset, part 1\n",
        "In this exercise, we're going to build a k-nearest neighbor model to predict which country the UFO sighting took place in. Our X dataset has the log-normalized seconds column, the one-hot encoded type columns, as well as the month and year when the sighting took place. The y labels are the encoded country column, where 1 is us and 0 is ca."
      ]
    },
    {
      "cell_type": "markdown",
      "metadata": {
        "id": "zbP8AIDEWXh-"
      },
      "source": [
        "Print out the .columns of the X set.\n",
        "Split up the X and y sets using train_test_split(). Pass the y set to the stratify= parameter, since we have imbalanced classes here.\n",
        "Use fit() to fit train_X and train_y.\n",
        "Print out the .score() of the knn model on the test_X and test_y sets."
      ]
    },
    {
      "cell_type": "code",
      "metadata": {
        "id": "3Wo60IQxWWYB"
      },
      "source": [
        "# Take a look at the features in the X set of data\n",
        "print(X.columns)\n",
        "\n",
        "# Split the X and y sets using train_test_split, setting stratify=y\n",
        "train_X, test_X, train_y, test_y = train_test_split(X,y,stratify=y)\n",
        "\n",
        "# Fit knn to the training sets\n",
        "knn.fit(train_X,train_y)\n",
        "\n",
        "# Print the score of knn on the test sets\n",
        "print(knn.score(test_X,test_y))"
      ],
      "execution_count": null,
      "outputs": []
    },
    {
      "cell_type": "markdown",
      "metadata": {
        "id": "VOh6rzXmWY1y"
      },
      "source": [
        "Modeling the UFO dataset, part 2\n",
        "Finally, let's build a model using the text vector we created, desc_tfidf, using the filtered_words list to create a filtered text vector. Let's see if we can predict the type of the sighting based on the text. We'll use a Naive Bayes model for this."
      ]
    },
    {
      "cell_type": "markdown",
      "metadata": {
        "id": "nu6lL9l6Wbsf"
      },
      "source": [
        "On the desc_tfidf vector, filter by passing a list of filtered_words into the index.\n",
        "Split up the X and y sets using train_test_split(). Remember to convert filtered_text using toarray(). Pass the y set to the stratify= parameter, since we have imbalanced classes here.\n",
        "Use the nb model's fit() to fit train_X and train_y.\n",
        "Print out the .score() of the nb model on the test_X and test_y sets."
      ]
    },
    {
      "cell_type": "code",
      "metadata": {
        "id": "z7fXkGY0WaeL"
      },
      "source": [
        "# Use the list of filtered words we created to filter the text vector\n",
        "filtered_text = desc_tfidf[:, list(filtered_words)]\n",
        "\n",
        "# Split the X and y sets using train_test_split, setting stratify=y \n",
        "train_X, test_X, train_y, test_y = train_test_split(filtered_text.toarray(), y, stratify=y)\n",
        "\n",
        "# Fit nb to the training sets\n",
        "nb.fit(train_X,train_y)\n",
        "\n",
        "# Print the score of nb on the test sets\n",
        "print(nb.score(test_X,test_y))"
      ],
      "execution_count": null,
      "outputs": []
    },
    {
      "cell_type": "markdown",
      "metadata": {
        "id": "pQmKStLcWd7e"
      },
      "source": [
        ""
      ]
    }
  ]
}