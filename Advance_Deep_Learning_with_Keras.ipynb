{
  "nbformat": 4,
  "nbformat_minor": 0,
  "metadata": {
    "colab": {
      "name": "Advance Deep Learning with Keras.ipynb",
      "provenance": [],
      "authorship_tag": "ABX9TyMx/WGl6LlcsMPTZ411woun",
      "include_colab_link": true
    },
    "kernelspec": {
      "name": "python3",
      "display_name": "Python 3"
    }
  },
  "cells": [
    {
      "cell_type": "markdown",
      "metadata": {
        "id": "view-in-github",
        "colab_type": "text"
      },
      "source": [
        "<a href=\"https://colab.research.google.com/github/nihalbaig0/Datacamp/blob/master/Advance_Deep_Learning_with_Keras.ipynb\" target=\"_parent\"><img src=\"https://colab.research.google.com/assets/colab-badge.svg\" alt=\"Open In Colab\"/></a>"
      ]
    },
    {
      "cell_type": "code",
      "metadata": {
        "id": "tASbcRvGwXMT",
        "colab_type": "code",
        "colab": {}
      },
      "source": [
        ""
      ],
      "execution_count": null,
      "outputs": []
    },
    {
      "cell_type": "markdown",
      "metadata": {
        "id": "A5awIShtwdja",
        "colab_type": "text"
      },
      "source": [
        "Input layers\n",
        "The first step in creating a neural network model is to define the Input layer. This layer takes in raw data, usually in the form of numpy arrays. The shape of the Input layer defines how many variables your neural network will use. For example, if the input data has 10 columns, you define an Input layer with a shape of (10,).\n",
        "\n",
        "In this case, you are only using one input in your network.\n",
        "\n",
        "This course touches on a lot of concepts you may have forgotten, so if you ever need a quick refresher, download the Keras Cheat Sheet and keep it handy!\n",
        "`Import the Input layer function from keras.layers.\n",
        "Create an input layer of shape 1.`"
      ]
    },
    {
      "cell_type": "code",
      "metadata": {
        "id": "T3dq-TaTwg-Y",
        "colab_type": "code",
        "colab": {}
      },
      "source": [
        "# Import Input from keras.layers\n",
        "from keras.layers import Input\n",
        "\n",
        "# Create an input layer of shape 1\n",
        "input_tensor = Input(shape=(1,))"
      ],
      "execution_count": null,
      "outputs": []
    },
    {
      "cell_type": "markdown",
      "metadata": {
        "id": "7Apz6IIQwk52",
        "colab_type": "text"
      },
      "source": [
        "Dense layers\n",
        "Once you have an Input layer, the next step is to add a Dense layer.\n",
        "\n",
        "Dense layers learn a weight matrix, where the first dimension of the matrix is the dimension of the input data, and the second dimension is the dimension of the output data. Recall that your Input layer has a shape of 1. In this case, your output layer will also have a shape of 1. This means that the Dense layer will learn a 1x1 weight matrix.\n",
        "\n",
        "In this exercise, you will add a dense layer to your model, after the input layer.\n",
        "`Import the Dense layer function from keras.layers.\n",
        "Create a Dense layer with 1 unit.\n",
        "Pass input_tensor to output_layer().\n",
        "`"
      ]
    },
    {
      "cell_type": "code",
      "metadata": {
        "id": "2uzz9xF0wxUI",
        "colab_type": "code",
        "colab": {}
      },
      "source": [
        "# Load layers\n",
        "from keras.layers import Input, Dense\n",
        "\n",
        "# Input layer\n",
        "input_tensor = Input(shape=(1,))\n",
        "\n",
        "# Dense layer\n",
        "output_layer = Dense(1)\n",
        "\n",
        "# Connect the dense layer to the input_tensor\n",
        "output_tensor = output_layer(input_tensor)"
      ],
      "execution_count": null,
      "outputs": []
    },
    {
      "cell_type": "markdown",
      "metadata": {
        "id": "KbtWKDTtw0G9",
        "colab_type": "text"
      },
      "source": [
        "Output layers\n",
        "Output layers are simply Dense layers! Output layers are used to reduce the dimension of the inputs to the dimension of the outputs. You'll learn more about output dimensions in chapter 4, but for now, you'll always use a single output in your neural networks, which is equivalent to Dense(1) or a dense layer with a single unit.\n",
        "`Import the Input and Dense functions from keras.layers.\n",
        "Create an input layer of shape 1.\n",
        "Again, create a dense layer with 1 unit and pass input_tensor directly to it.`"
      ]
    },
    {
      "cell_type": "code",
      "metadata": {
        "id": "TU-WLCisxD9u",
        "colab_type": "code",
        "colab": {}
      },
      "source": [
        "# Load layers\n",
        "from keras.layers import Input , Dense\n",
        "\n",
        "# Input layer\n",
        "input_tensor = Input(shape=(1,))\n",
        "\n",
        "# Create a dense layer and connect the dense layer to the input_tensor in one step\n",
        "# Note that we did this in 2 steps in the previous exercise, but are doing it in one step now\n",
        "output_tensor = Dense(1)(input_tensor)"
      ],
      "execution_count": null,
      "outputs": []
    },
    {
      "cell_type": "markdown",
      "metadata": {
        "id": "kFFICO0myBlj",
        "colab_type": "text"
      },
      "source": [
        "Build a model\n",
        "Once you've defined an input layer and an output layer, you can build a Keras model. The model object is how you tell Keras where the model starts and stops: where data comes in and where predictions come out.\n",
        "`Import Model from keras.models to create a keras model.\n",
        "Use the input layer and output layer you already defined as the model's input and output.\n",
        "`"
      ]
    },
    {
      "cell_type": "code",
      "metadata": {
        "id": "WBwK8ELKyDg2",
        "colab_type": "code",
        "colab": {}
      },
      "source": [
        "# Input/dense/output layers\n",
        "from keras.layers import Input, Dense\n",
        "input_tensor = Input(shape=(1,))\n",
        "output_tensor = Dense(1)(input_tensor)\n",
        "\n",
        "# Build the model\n",
        "from keras.models import Model\n",
        "model = Model(input_tensor, output_tensor)"
      ],
      "execution_count": null,
      "outputs": []
    },
    {
      "cell_type": "markdown",
      "metadata": {
        "id": "xkKzEL83yGWI",
        "colab_type": "text"
      },
      "source": [
        "Compile a model\n",
        "The final step in creating a model is compiling it. Now that you've created a model, you have to compile it before you can fit it to data. This finalizes your model, freezes all its settings, and prepares it to meet some data!\n",
        "\n",
        "During compilation, you specify the optimizer to use for fitting the model to the data, and a loss function. 'adam' is a good default optimizer to use, and will generally work well. Loss function depends on the problem at hand. Mean squared error is a common loss function and will optimize for predicting the mean, as is done in least squares regression.\n",
        "\n",
        "Mean absolute error optimizes for the median and is used in quantile regression. For this dataset, 'mean_absolute_error' works pretty well, so use it as your loss function.\n",
        "`Compile the model you created (model).\n",
        "Use the 'adam' optimizer.\n",
        "Use mean absolute error (or 'mean_absolute_error') loss.`"
      ]
    },
    {
      "cell_type": "code",
      "metadata": {
        "id": "GftQdZcQyPLS",
        "colab_type": "code",
        "colab": {}
      },
      "source": [
        "# Compile the model\n",
        "model.compile(optimizer='adam', loss='mean_absolute_error')"
      ],
      "execution_count": null,
      "outputs": []
    },
    {
      "cell_type": "markdown",
      "metadata": {
        "id": "zswSh1hayQro",
        "colab_type": "text"
      },
      "source": [
        "Visualize a model\n",
        "Now that you've compiled the model, take a look a the result of your hard work! You can do this by looking at the model summary, as well as its plot.\n",
        "\n",
        "The summary will tell you the names of the layers, as well as how many units they have and how many parameters are in the model.\n",
        "\n",
        "The plot will show how the layers connect to each other.\n",
        "![basketball_model_1.png](data:image/png;base64,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)"
      ]
    },
    {
      "cell_type": "markdown",
      "metadata": {
        "id": "jKP30OqdyhwY",
        "colab_type": "text"
      },
      "source": [
        "`Summarize the model.\n",
        "Plot the model.`"
      ]
    },
    {
      "cell_type": "code",
      "metadata": {
        "id": "Kh1wbSAeyj0r",
        "colab_type": "code",
        "colab": {}
      },
      "source": [
        "# Import the plotting function\n",
        "from keras.utils import plot_model\n",
        "import matplotlib.pyplot as plt\n",
        "\n",
        "# Summarize the model\n",
        "model.summary()\n",
        "\n",
        "# Plot the model\n",
        "plot_model(model, to_file='model.png')\n",
        "\n",
        "# Display the image\n",
        "data = plt.imread('model.png')\n",
        "plt.imshow(data)\n",
        "plt.show()"
      ],
      "execution_count": null,
      "outputs": []
    },
    {
      "cell_type": "markdown",
      "metadata": {
        "id": "c4XjE948y27Y",
        "colab_type": "text"
      },
      "source": [
        "Fit the model to the tournament basketball data\n",
        "Now that the model is compiled, you are ready to fit it to some data!\n",
        "\n",
        "In this exercise, you'll use a dataset of scores from US College Basketball tournament games. Each row of the dataset has the team ids: team_1 and team_2, as integers. It also has the seed difference between the teams (seeds are assigned by the tournament committee and represent a ranking of how strong the teams are) and the score difference of the game (e.g. if team_1 wins by 5 points, the score difference is 5).\n",
        "\n",
        "To fit the model, you provide a matrix of X variables (in this case one column: the seed difference) and a matrix of Y variables (in this case one column: the score difference).\n",
        "\n",
        "The games_tourney DataFrame along with the compiled model object is available in your workspace.\n",
        "`Fit the model with seed_diff as the input variable and score_diff as the output variable.\n",
        "Use 1 epoch, a batch size of 128, and a 10% validation split.`"
      ]
    },
    {
      "cell_type": "code",
      "metadata": {
        "id": "Tm4vAXhh0Ifn",
        "colab_type": "code",
        "colab": {}
      },
      "source": [
        "# Now fit the model\n",
        "model.fit(games_tourney_train['seed_diff'], games_tourney_train['score_diff'],\n",
        "          epochs=1,\n",
        "          batch_size=128,\n",
        "          validation_split=0.1,\n",
        "          verbose=True)"
      ],
      "execution_count": null,
      "outputs": []
    },
    {
      "cell_type": "markdown",
      "metadata": {
        "id": "vOlrm0hs0UBB",
        "colab_type": "text"
      },
      "source": [
        "Evaluate the model on a test set\n",
        "After fitting the model, you can evaluate it on new data. You will give the model a new X matrix (also called test data), allow it to make predictions, and then compare to the known y variable (also called target data).\n",
        "\n",
        "In this case, you'll use data from the post-season tournament to evaluate your model. The tournament games happen after the regular season games you used to train our model, and are therefore a good evaluation of how well your model performs out-of-sample.\n",
        "\n",
        "The games_tourney_test DataFrame along with the fitted model object is available in your workspace.\n",
        "`Assign the test data (seed_diff column) to X_test.\n",
        "Assign the target data (score_diff column) to y_test.\n",
        "Evaluate the model on X_test and y_test.`"
      ]
    },
    {
      "cell_type": "code",
      "metadata": {
        "id": "7B2ZHKRA0YQQ",
        "colab_type": "code",
        "colab": {}
      },
      "source": [
        "# Load the X variable from the test data\n",
        "X_test = games_tourney_test['seed_diff']\n",
        "\n",
        "# Load the y variable from the test data\n",
        "y_test = games_tourney_test['score_diff']\n",
        "\n",
        "# Evaluate the model on the test data\n",
        "print(model.evaluate(X_test, y_test, verbose=False))"
      ],
      "execution_count": null,
      "outputs": []
    },
    {
      "cell_type": "markdown",
      "metadata": {
        "id": "So9JyByQ0q7Z",
        "colab_type": "text"
      },
      "source": [
        "Define team lookup\n",
        "Shared layers allow a model to use the same weight matrix for multiple steps. In this exercise, you will build a \"team strength\" layer that represents each team by a single number. You will use this number for both teams in the model. The model will learn a number for each team that works well both when the team is team_1 and when the team is team_2 in the input data.\n",
        "\n",
        "The games_season DataFrame is available in your workspace.\n",
        "`Count the number of unique teams.\n",
        "Create an embedding layer that maps each team ID to a single number representing that team's strength.\n",
        "The output shape should be 1 dimension (as we want to represent the teams by a single number).\n",
        "The input length should be 1 dimension (as each team is represented by exactly one id).`"
      ]
    },
    {
      "cell_type": "code",
      "metadata": {
        "id": "PWcHEVSz2kZk",
        "colab_type": "code",
        "colab": {}
      },
      "source": [
        "# Imports\n",
        "from keras.layers import Embedding\n",
        "from numpy import unique\n",
        "\n",
        "# Count the unique number of teams\n",
        "n_teams = unique(games_season['team_1']).shape[0]\n",
        "\n",
        "# Create an embedding layer\n",
        "team_lookup = Embedding(input_dim=n_teams,\n",
        "                        output_dim=1,\n",
        "                        input_length=1,\n",
        "                        name='Team-Strength')"
      ],
      "execution_count": null,
      "outputs": []
    },
    {
      "cell_type": "markdown",
      "metadata": {
        "id": "1ImVTz-w3Ofn",
        "colab_type": "text"
      },
      "source": [
        "Define team model\n",
        "The team strength lookup has three components: an input, an embedding layer, and a flatten layer that creates the output.\n",
        "\n",
        "If you wrap these three layers in a model with an input and output, you can re-use that stack of three layers at multiple places.\n",
        "\n",
        "Note again that the weights for all three layers will be shared everywhere we use them.\n",
        "`Create a 1D input layer for the team ID (which will be an integer). Be sure to set the correct input shape!\n",
        "Pass this input to the team strength lookup layer you created previously.\n",
        "Flatten the output of the team strength lookup.\n",
        "Create a model that uses the 1D input as input and flattened team strength as output.`"
      ]
    },
    {
      "cell_type": "code",
      "metadata": {
        "id": "WJxnJVqg3R4z",
        "colab_type": "code",
        "colab": {}
      },
      "source": [
        "# Imports\n",
        "from keras.layers import Input, Embedding, Flatten\n",
        "from keras.models import Model\n",
        "\n",
        "# Create an input layer for the team ID\n",
        "teamid_in = Input(shape=(1,))\n",
        "\n",
        "# Lookup the input in the team strength embedding layer\n",
        "strength_lookup = team_lookup(teamid_in)\n",
        "\n",
        "# Flatten the output\n",
        "strength_lookup_flat = Flatten()(strength_lookup)\n",
        "\n",
        "# Combine the operations into a single, re-usable model\n",
        "team_strength_model = Model(teamid_in, strength_lookup_flat, name='Team-Strength-Model')"
      ],
      "execution_count": null,
      "outputs": []
    },
    {
      "cell_type": "markdown",
      "metadata": {
        "id": "hg2dD-DW35OB",
        "colab_type": "text"
      },
      "source": [
        "Defining two inputs\n",
        "In this exercise, you will define two input layers for the two teams in your model. This allows you to specify later in the model how the data from each team will be used differently.\n",
        "`Create an input layer to use for team 1. Recall that our input dimension is 1.\n",
        "Name the input \"Team-1-In\" so you can later distinguish it from team 2.\n",
        "Create an input layer to use for team 2, named \"Team-2-In\".`"
      ]
    },
    {
      "cell_type": "code",
      "metadata": {
        "id": "Dayn6qq94xgI",
        "colab_type": "code",
        "colab": {}
      },
      "source": [
        "# Load the input layer from keras.layers\n",
        "from keras.layers import Input\n",
        "\n",
        "# Input layer for team 1\n",
        "team_in_1 = Input((1,),name='Team-1-In')\n",
        "\n",
        "# Separate input layer for team 2\n",
        "team_in_2 = Input((1,),name='Team-2-In')"
      ],
      "execution_count": null,
      "outputs": []
    },
    {
      "cell_type": "markdown",
      "metadata": {
        "id": "8aztI7pi47HT",
        "colab_type": "text"
      },
      "source": [
        "Lookup both inputs in the same model\n",
        "Now that you have a team strength model and an input layer for each team, you can lookup the team inputs in the shared team strength model. The two inputs will share the same weights.\n",
        "\n",
        "In this dataset, you have 10,888 unique teams. You want to learn a strength rating for each team, such that if any pair of teams plays each other, you can predict the score, even if those two teams have never played before. Furthermore, you want the strength rating to be the same, regardless of whether the team is the home team or the away team.\n",
        "\n",
        "To achieve this, you use a shared layer, defined by the re-usable model (team_strength_model()) you built in exercise 3 and the two input layers (team_in_1 and team_in_2) from the previous exercise, all of which are available in your workspace.\n",
        "`Lookup the first team ID in the team strength model.\n",
        "Lookup the second team ID in the team strength model.`"
      ]
    },
    {
      "cell_type": "code",
      "metadata": {
        "id": "wfBOMYVj5PJ7",
        "colab_type": "code",
        "colab": {}
      },
      "source": [
        "# Lookup team 1 in the team strength model\n",
        "team_1_strength = team_strength_model(team_in_1)\n",
        "\n",
        "# Lookup team 2 in the team strength model\n",
        "team_2_strength = team_strength_model(team_in_2)"
      ],
      "execution_count": null,
      "outputs": []
    },
    {
      "cell_type": "markdown",
      "metadata": {
        "id": "qDyLw0xr5Qii",
        "colab_type": "text"
      },
      "source": [
        "Output layer using shared layer\n",
        "Now that you've looked up how \"strong\" each team is, subtract the team strengths to determine which team is expected to win the game.\n",
        "\n",
        "This is a bit like the seeds that the tournament committee uses, which are also a measure of team strength. But rather than using seed differences to predict score differences, you'll use the difference of your own team strength model to predict score differences.\n",
        "\n",
        "The subtract layer will combine the weights from the two layers by subtracting them.\n",
        "`Import the Subtract layer from keras.layers.\n",
        "Combine the two-team strength lookups you did earlier.`"
      ]
    },
    {
      "cell_type": "code",
      "metadata": {
        "id": "ju3S7wRQ54x7",
        "colab_type": "code",
        "colab": {}
      },
      "source": [
        "# Import the Subtract layer from keras\n",
        "from keras.layers import Subtract\n",
        "\n",
        "# Create a subtract layer using the inputs from the previous exercise\n",
        "score_diff = Subtract()([team_1_strength, team_2_strength])"
      ],
      "execution_count": null,
      "outputs": []
    },
    {
      "cell_type": "markdown",
      "metadata": {
        "id": "SE4XSj8u6F8Z",
        "colab_type": "text"
      },
      "source": [
        "Model using two inputs and one output\n",
        "Now that you have your two inputs (team id 1 and team id 2) and output (score difference), you can wrap them up in a model so you can use it later for fitting to data and evaluating on new data.\n",
        "\n",
        "Your model will look like the following diagram:\n",
        "\n",
        "![basketball_model_2.png](data:image/png;base64,iVBORw0KGgoAAAANSUhEUgAAAaMAAAD/CAYAAABcrrnMAAAAAXNSR0IArs4c6QAAOg9JREFUeAHtnQm8VVP7x5/mQYkmIikh81SGFMnQIEXGlMqUIUpCxCvji8iUKZky5s0YKjSjMmXIlLGUMZIGVMr6P7/Hf5/2OffM99x79jn7tz6fe8/ea6/xu/Zez17PetbaFZxz44SOBEiABEiABPJIoIIKI5fH/Jk1CZAACZAACUhFMiABEiABEiCBfBOgMMp3CzB/EiABEiABjox4D5AACZAACeSfQOXYInz33XcyZ86cWG+ek0CoCDRr1kxatWqV8zrz+co5UiZYgATiPl8wYPC7cePGwaCBf2QQ6nvg1FNP9T8WOTvm88W+hf2ruHjPV4mRkSdk9enzDvlLAqEi0KlTpzKvL5+vMkfMDAJKINHzRQOGgDYYi0UCJEACYSJAYRSm1mZdSYAESCCgBCiMAtowLBYJkAAJhIkAhVGYWpt1JQESIIGAEqAwCmjDsFgkQAIkECYCFEZham3WlQRIgAQCSoDCKKANw2KRAAmQQJgIUBiFqbVZVxIgARIIKAEKo4A2DItFAiRAAmEiQGEUptZmXUmABEggoAQojALaMCwWCZAACYSJAIVRmFqbdSUBEiCBgBKgMApow7BYJEACJBAmAhRGYWpt1pUESIAEAkqAwiigDcNikQAJkECYCCT8nlG6EPBV2IULF6YMXq1aNTn66KNThstngJ9++knmz58vBx10UMpiLFu2TF5++eUS4dq2bStbbbVVCf9sPV577TX5/vvvo6Jvsskm0rlz5yi/fJz8+OOPMmPGjKisK1SoID169Ijy40n2BIrh+Vq5cqU88cQTsmDBAtl2222lZ8+eUrNmzaRQ+HyJhO75iv2Epfclylj/ROfHHXec22KLLdyFF17obrnlFnfmmWfaF0K1Q3e33367u+KKK9zee+/ttANNlETe/ZcsWeIuuOACV6NGDTdw4MC0y6PCy6Ge+lS5HXbYwX377bfun3/+STt+OgHXrFnjnnvuuchXV0eOHOn+/PPPdKKWeZj169c77SxdvXr1rHwqhNyiRYvKPN+yzqBjx45xv0SZi3zD9nzpy53bfPPN3XbbbeeqVq1q90nz5s2ddrQpcfL5CtfzJbF3RKYPS7du3dynn34aSeall16yG27QoEERv9WrV7uddtopch60g7ffftt9+OGHVu5MhBHqAQEMYZRpvEwYQMBBmCOf3377LZOoOQ8LwT1p0qSodI844ggr24svvhjlX6gnQRJGhf586Qjeni3cC7h3Tj/9dLtX4n12Ot79wufLubA8X6WeM4Jaascdd0w65IaK7pRTTkkaJp8XdeQmOrLJqgh16tSxeN5vVomkiATVV+3atcs8nxTFEB0JmYolVi3rlW2jjTZKlQSvZ0igkJ+vuXPnSq9evWS33XazWjdo0ECuvvpqqVixosyePTstEt5z5f2mFSnDQHy+MgRWRsFLPWd00UUXpVU0VeNZuB9++MHmWr777jtp06aNHHLIIVHxv/jiC3nzzTdl3rx5dr179+5R1z/77DPB3E67du1E39Dl888/F1UV2jyNjiBk1qxZAj37gQceKPvtt19U3PI8Wbx4sTz77LMyYMAA0ZGjjB8/Xpo0aWIPJx5Gz6kKTtatW2d18PzS/UW86dOn28PdunVr0ZGJ8cCczfbbb2/JIMzUqVMFgkJVJVaOb775RsB13333tTCI9/XXX0utWrVE31wFOv5HHnlE/v77b2nUqJGccMIJoupCK/uUKVOkYcOGggdY39rterrl9cIlamOUE9zgvDlG/OrI1RhuuummcuSRR3rJCMry1ltvCfxRRlUXRq5hzmHs2LHSv39/u09wP6kqVipXLvUtH8mjPA4K+flq2rSp7LXXXlGYcD+1bNmy1O3A5ysKa9RJwT5fsUPjTNV0sfHjqem8MNOmTXP9+vVz7733nkM+2vk57Sy8y+7WW2+1ORiopRYsWOD0ZnZ33323XV+xYoXN6yh1p4YQFm/o0KHugAMOcJUqVXITJkxwJ554ooVp3Lix007HqVCLpJ3qAHMzSDtTddsDDzxg8S6//PJIFi+88ILTt0DzR510VBgZal933XWRcDjYcsstbc4lyjPOiRpFWHqYp4GDug5zNCizvn06nRR25513nttss82cPvBu6dKlTh9YY4UwUPd06dLFuOE6+Dz99NORnHbeeWcHbp4D74033tipkDOv33//3d13332Wn3aQToWg0w7froE78kD7pnLJ2viPP/5wKAfSUuEYlRTm5PTFw/zQVlD3qLBxH3zwgTv22GNd/fr13SeffGLXx4wZ43SC3Op4xx13uN13393ShCo2HRckNV1seQv1+fLXA3NIOkLyeyU85vPlrF8Lw/NV6jmj2Lso0cOib9tum222catWrYpEOe2006yTwCQ4nFrauHPOOSdy/aijjnKHH3545BwHOlw3gwhvEh+dZpUqVZy+5Ucm9tGpYbL02muvjYqb7CSXwgj5XHLJJVY3fXuPZKtviU7fCiPnOIDAfOONN6L84p3ECiOE+euvvyyP9u3bOx3FWDQIQty43vzNV199ZecwNPEcJoYhLCF8vHjo0P3CCGFRXk8Y4RwdP9JGB+F3mQijVG3slR+Cz3M6mjaB452PGDHCDGO8cwhdlAtCxHMQ0PDT0al56Yjau5TytxCFUdCfLw/6zJkz7T5DedNx8YQR4vH5ik+vkJ+vctNZQGWinacMGTJE+4h/HdRtalkj2mGaSg1mwt68A1RbGIqrsPGC26++rVsctXyzc8xXqDWfqaA8P5iNwrxaR1dRccvzxCuLfy5KjTjklVdeiSqGpyqL8kzzpHr16qYuA0NP/YQ84NSqzX49nnvssYed45+OnkRHqKKjNGME9V0mDiq6bF2qNtbJWpuD1Ilr0ZcVqx/Mgvv06RPJEtdatWol+uIS8WvRooXoaDFyjnsCzlPr+dshEqiIDgrh+cKc47Bhw0RfOEwlXBr8fL7i0yvk56vchJGqUGx+4a677opPUX1VZSWvvvqq6OjK5oTQyWISNJXDvEKs09GS6AjJvDGvcO6550YF0bdryyPKM8EJ5lFUxRO5ivmYxx9/PHKe7oGqEzESTTd4VuGQB1yqfLw5pV9++cUEeSaZlUYYpWpjpI15ErW2kokTJ4qqFm1uSFWQVkRVFwrmHdEmXbt2TVhsb17O+00YsEguFMLzhXnjwYMHy5577hlFnc9XFA57AYv2Sf+skJ+vchNG6CRhbIBJcQiKeE7nXUSH8TZ6wJvPM888Ey9YCb9EnaPnD8OBWGGkKsMS6STyOOaYY0TnpiKX69atGzku1ANdE2VFz4SDV1ePq3eezi9GamiHdNoYFlgId/PNN4vOG4rOI0VGfp5w+eijj5IKo3TKVExhgv58jR492oQQjF5iHZ+vaCJhfb5yLowSvZHrJLKNVEaNGmUWZh5+vOlCDYMdBXSOR+69917xhuCwjsuFgwVP3759s04qCLsdZF34BBHV2MCsmnQy2UJAzafrwRKE/tfbe0igbsnEIS81WhF0Oum0sc73ia5TsxESRkk33XRTJDuoaZs1ayb33HOPnH/++ZF7BQEee+wxs6KE0CtWV4jPFyxGUW6/qhXtgxdPWMXy+fr3bg3787XBxjhHTy+EC9zy5cujUoTpLeZxMFRH5wITbbWokzPOOEN69+4tathg4Z988kmbJ3r99dcFW+HARBfXYG6MGxqqN5gZ+x2u++cLcA3hUnWu/jSQD1wmcRDem9PyfuEH552vXbv2Xw/9/+uvv1rZ/R3K2WefbWt3IoESHHjpeb8Ihnojrdg8cA3zc36HkYTnsL3QO++8I8OHD/e8pEOHDla+hx56yNjhVy3yBGbgHhsIdTiYziNfmEvDeaMsfznsgv6DihSdkBoFpNXGXjzdyUOwtgTMMDLyOwgoLA04+OCDBTry999/X3SnD7vnPEHkqWhRh2JyhfZ8wfwe9xk0Infeeaf96c4sgvb17p9k7ePd796vF9Y7999zfL5S96Eev0A+X9qpRLlsTbv1pnAwo8VOC1phs3qDNZvfRBc7NehchV1HmF122cXMvL0CYFU2TI5hEaIjKDM9hlWcdjpOF1q6a665xuLCEkyFloNFjk6Imp8aMlj+sLK74YYbzA+7Fjz88MNe8gl/dW7CqbC0OLqGxkyYU21XAtNqmCnrW7rFg2kx8sV2ONpBmuUg6ggTZKQFM2SYSsPvyiuvjFix6YJAM2HX9UBxyzd58uTIqnXEhVm7qi/NKhFm6PCDqSys51TIOF0/ZH4wZ3733Xctb4TRN1AH60WYw8OiD2n4HVjquiyLq4uYzQoNecGyzG/ZpuvCLAws+FTQOB2dRLZ5QTnQVtgiSQ0MrFzIG+brnkvWxjBH97uzzjrL6Ryj38uOYfqPeuBeQfr4hXWVZ/Z+//33W564dvzxx1s5SySSxCOI1nSF+HzpfK9TAxprI7SF/0+Nb2z5QaJm4PMVvucLb7hRLlthFJVIihMIFuzjFs/pG0+UN7YSKmaH+sGsvKwcBCE6gf/+979ORwtORzpJ98/Dli2eg+l4rIMg0FFJrHdG5+m28WGHHRZZyxQvA7x4fPzxx1aveNez9QuiMMqkLny+NtDi8+Vcoj40aM9XzueMtONL6bbeeuuEYbytZbwA8SzlvGvF8Fue9YPJO+Zbkjls2eI5mI7HOui1YbFTGpdOG8N6EcYV2KE8kcPcYqwKL1HYMPnz+drQ2ny+/t3NZAORf4+C+HzlRRjFguF52RHQ0YMl7s01lF1OpU8ZZvxYh7brrrvaXNDzzz9f+kSZAgmUIQE+X7mDS2GUO5aBS0nVNTaxj4LBTB4b2sJsGtZqQXSwnoRhBYSSzlOZWXcQy8kykQAI8PnK7X1AYZRbnoFKDbsQqFGJ/XkFS7TGy7uez1/sng6rSKwl8tYT5bM8zJsEkhHg85WMTubXKIwyZ1YwMTACCuooKBFErHeiI4FCIMDnK7etlPN1RrktHlMjARIgARIIAwEKozC0MutIAiRAAgEnQGEU8AZi8UiABEggDAQojMLQyqwjCZAACQScAIVRwBuIxSMBEiCBMBCgMApDK7OOJEACJBBwAhRGAW8gFo8ESIAEwkCAwigMrcw6kgAJkEDACVAYBbyBWDwSIAESCAMBCqMwtDLrSAIkQAIBJ0BhFPAGYvFIgARIIAwEEm4E9tRTT4Wh/qGvI3bK5qak0bfBTz/9VOpvNkWnWPKMz1c0E96H0TyK+SzR85VQGOnnmouZB+tGAkkJ6KfZk14v7UU+X6UlyPiFTCDe81UBH+gt5Eqx7KUjcNttt8ngwYNl0KBBcvPNNwu+5EpHAuVFAB9QPPHEE6Vz587yxBNPSLyvC5dXWZhPfgkkHBnlt1jMvbwIQAhtvvnm0rdvX/n5559lzJgxEuRvHpUXF+ZT9gRGjx4t/fv3l379+sldd91FdXHZIw90DjRgCHTzlE/hevToIRMnTpQXX3xRunTpIqtWrSqfjJlLaAlcddVVcuaZZ8qwYcPknnvuoSAK7Z2woeJU021gEfqj999/39QljRs3NuHUsGHD0DMhgNwSWL9+vZxzzjly//33mxDCqIiOBECAwoj3QRSBb775Rjp27CiYSnzllVekefPmUdd5QgLZEli9erXND+G+Gjt2rBx55JHZJsV4RUiAaroibNTSVGmbbbaRWbNmyaabbir777+/vPfee6VJjnFJwAj8/vvvcthhh8nMmTNl8uTJFES8L0oQoDAqgYQeUM9Nnz5d9thjDznooINkypQphEICWRP4/vvvpW3btrJw4UJ54403pE2bNlmnxYjFS4DCqHjbtlQ1q1Wrlrz00kvSrVs3Ofzww02tUqoEGTmUBD777DNp3bq1qX3nzJkjO+20Uyg5sNKpCdC0OzWj0IaAifejjz5qpt+9evUSrJw+//zzQ8uDFc+MwOzZs6Vr166y4447mqUmVL90JJCIAIVRIjL0NwJYBDtixAhp1KiRXHDBBfLjjz/K8OHDuTiW90dSAlgmcMIJJ0iHDh1sVF2jRo2k4XmRBCiMeA+kRQCCCItjTznlFBNIDz74IBfHpkUufIEeeOABW0N06qmnmvl2pUqVwgeBNc6YAOeMMkYW3ghQ1WEeCVu4QP3yxx9/hBcGax6XwLXXXiunn366XHbZZYIdFiiI4mKiZxwCXGcUBwq9khOYO3euGTVsvfXWMmHCBGnQoEHyCLxa9ASw6/aAAQNk1KhRtrXPWWedVfR1ZgVzS4DCKLc8Q5PaV199ZYtj8eaLRYzNmjULTd1Z0WgCa9asEYya8WKCzU67d+8eHYBnJJAGAarp0oDEICUJbLvttgJrqdq1a9vi2A8++KBkIPoUPYHly5fbS8nUqVPl1VdfpSAq+hYvuwpSGJUd26JPebPNNpMZM2bIzjvvLO3atZNp06YVfZ1ZwQ0EfvjhBznggAMEo+TXX3/djjdc5REJZEaAwigzXgwdQwAjI+z4jYWx+CbN//73v5gQPC1GAp9//rmNiNetW2cj5F122aUYq8k6lSMBCqNyhF2sWVWtWtXmCvBtGnwobeTIkcVaVdZLCbz55pu2pc8WW2xh2/s0adKEXEig1AS4zqjUCJkACGBx7K233mqLY/HBPiyOvf766wmnyAjASAGfTD/44INl3LhxwsWsRdbAeawOhVEe4Rdj1kOGDLHFsaeddpoJJHy3pnJl3mbF0NYPPfSQnHHGGdKnTx+uISqGBg1YHaimC1iDFENx0FlhO5inn37aPhXw559/FkO1Ql0HjHKxo8LFF18s2GGBi1lDfTuUSeW5zqhMsDJREHj77bftM+b4QB92bqhfvz7BFBgBLGaF2vWuu+6yuUB8pZWOBMqCAIVRWVBlmhECX3zxhXTq1Elg5IDFsdi1ga4wCKxdu1Z69+4t48ePl8cee0yOPfbYwig4S1mQBKimK8hmK5xCb7/99mb6W716dfuuzbx58wqn8CEu6YoVK+wlAi8QL7/8MgVRiO+F8qo6hVF5kQ5xPtjt+7XXXpMddthBDjzwQFsoG2Icga86vluFdpo/f761G772S0cCZU2AwqisCTN9I7DxxhvbG3bHjh3tjRvGDXTBIwC16v777y+rV6+2Ee1uu+0WvEKyREVJgMKoKJs1mJXCvNHYsWPNPBgfXsOkOF1wCLzzzju2mLVhw4a2mLVp06bBKRxLUvQEuACk6Js4WBWsWLGiWWXhy7HnnnuurUXCN3Do8kvAmxfCHoNPPfWU1KxZM78FYu6hI0BhFLomD0aFhw4daotjsYgSuzXwQ2z5a5dHHnlEsEgZn4HgIuX8tUPYc6aaLux3QB7rj0+Y46uxTz75pBx11FHy119/5bE04cz6xhtvlJNPPlkuvPBCGTNmDHfLCOdtEIhac51RIJoh3IXAxptHHHGEwAwci2Pr1q0bbiDlUHvnnAwePFhuv/12ue2222TgwIHlkCuzIIHEBCiMErPhlXIkgE8SwNIOcxWYv+BO0GUHH4tZ+/btK88++6xARQdjEjoSyDcBquny3QLM3wi0aNHCTImxqSpMiz/++GOSKQMCK1eutC2a8A2qSZMmURCVAWMmmR0BCqPsuDFWGRDA93HwxVB80hxfEMUxXe4I/Pzzz4IFrBD0M2fOtM9A5C51pkQCpSNAYVQ6foydYwJ16tSxPewOOeQQ6dChgzz33HM5ziGcyeHT4BhxYmQ0e/Zs2WOPPcIJgrUOLAEKo8A2TXgLVq1aNftwGz5ZgM05R40aFRcGthgaPnx43Gth84QRyDXXXBO32nPnzrXFrPXq1ZNZs2ZJs2bN4oajJwnklYBa1dCRQGAJaAfr9AFxw4YNiyqjbrjqatWq5VRwOV2nFHUtjCf77LOPcdL1WlHV141OjZMah7hVq1ZFXeMJCQSJgASpMCwLCcQjoAsxnX7MzfXr18+tW7fOffvtt65BgwbmpwYPThfOxosWGj9VZZoggtDWz787XbtlddfPPrgqVao4/QyEUwu60PBgRQuTAE278zouZebpEsCXY2GCjAl4mIEvWrRIVDBZdGwx9Mknn9iu4OmmVyzhwACWiAsXLhR8CE+FkagAkv79+9saIixmhSoT/nQkEGQCFEZBbh2WLYrAtGnT7GNvS5YsiQgiBIA5OD7gB4EVNof5NHx9FYLIcxDOmHfDQtYbbrjB8+YvCQSaAIVRoJuHhfMIYATQrVs3mTx5cpQg8q7jF6bgbdu29XsV9bHOAdmXc3/77bcS9YSAhsHCu+++K40bNy5xnR4kEDQCtKYLWouwPHEJ6HyRmXx7qrnYQDqnJIMGDYr1LurzESNGyPLly+PWEZyWLl1qa4mWLVsWNww9SSBIBDgyClJrsCxxCVx22WVy3XXXxb0W64nPH8AcvNgdvsaK7w2tWbMmaVWhstt7771l+vTpUqNGjaRheZEE8kmAI6N80mfeKQmsWLFC8PVRdKpQPSVzmKTHhP3ff/+dLFhRXLviiitk/fr1SesCQwbMJWGU9OmnnyYNy4skkG8CFEb5bgHmn5QAPleO0c7ixYsFI6T69eubZRiEU6xTg1YLd++998ZeKqrz+fPn23eHkqksIYh69uxpc0aYN2rZsmVRMWBlio8A1XTF16ZFXSOMerDbND57gF0H0OnGjoQ22WQTM/2uXbt2UbLo2rWr7WzuF0aYM8NIacstt5TzzjvPPpbHT3EUZfMXbaVKvl4WbVVZsWIgAOGD9UZz5swR3YXBPgwHM2Z0xp6DlVmxbhP0xhtv2DefPEEEHnDt27c3f6y/uuiii/hNKO9m4G/BEODIqGCaigVNRAAWZWP0K6UYLWHxJ1zVqlVlwYIFgp3Ai8m1atVKsNcc1JT49hM+23722WfbTufFVE/WJXwEKIyKoM2xs/XRRx9dBDVhFUggcwIQyMU+T5g5lcKLkdw8qfDqE+oSjx07NkpdFWYYv/zyi0ydOtW+HrvpppsWPAoYZ8CQY/fdd7ftfwq+QjmqQKKdynOUPJMpRwIcGZUj7LLKyhsZYSI/lflzWZWB6ZJAPggceuih0rx5c46M8gE/x3nSgCHHQJkcCZAACZBA5gQojDJnxhgkQAIkQAI5JkBhlGOgTI4ESIAESCBzAhRGmTNjDBIgARIggRwToDDKMVAmRwIkQAIkkDkBCqPMmTEGCZAACZBAjglQGOUYKJMjARIgARLInACFUebMGIMESIAESCDHBCiMcgyUyZEACZAACWROgMIoc2aMQQIkQAIkkGMCFEY5BsrkSIAESIAEMidAYZQ5M8YgARIgARLIMQEKoxwDZXIkQAIkQAKZE6AwypwZY5AACZAACeSYAIVRjoEyORIgARIggcwJ8ON6mTMr+Bhz5syJfJ47WWWqVasW2C/Irl27Vh599FH56KOPZKuttpK2bdsKPqK3dOlSad26dbJqBfLan3/+aR8DRNtcd911pSojPiw4ZcqUSBo77bSTfZQv4hFz8Pvvv8ukSZMivttss43su+++kfNMDlatWiXTp0+XN954Q4YPH55WVHyH67XXXpOXXnpJDjvsMDn88MPTisdAxUWAI6Pias+0anPrrbfKhRdeKO+995789NNPMnPmTOnZs6eMHj1a0JF9/vnngjCnnXZaWumVdyB03Pvss499+bRr165Sr149GTp0qH0BFZ15IbpXXnlFBgwYYAK2tOVv0KCBHHjggXLjjTdau/bq1UvwpdhE7u6777ZwuAd+/fVXgfDK1r388ssycOBAefLJJ9NOAi8U48aNk9tuu01++OGHtOMxYJER0JuUrsAJPPvss+hpnL5hplWTbt26uU8//TQSVt9ILf6gQYMifqtXr3baKUXOg3SgIwdXsWJFt3jx4qhi9evXz11wwQVRfkuWLHH61h/lF5SThx9+OKoovXv3do0bN47yK83JxRdfbJxwb6CN4zkdYboWLVq4GjVqWFgV9PGCZeR3/PHHOx1dZRTnww8/tHvwvvvuyyjeIYcc4s4444yM4jBwMAlwZFRkLxfpVAcqrR133DFpUKjoTjnllKRh8nXxgw8+kH/++UdWrFgRVYQbbrjB1HSe5/r16+2Nf+HChZ5XYH6hyrr00kujylOpUqWo89Ke1KlTR4488khLBqOkeO6pp56Szp07S/Xq1e2T9SqU4gXLyE9fFAR/mbjKlf+dMahQoUIm0Ri2iAhwzqiIGjPdqlx00UVpBYUqDw6qE6hfvvvuO2nTpo3o22hU/C+++ELefPNNmTdvnl3v3r171PXPPvvM1IHt2rWzuQmoAY877jib64FQmTVrlkC9BtXSfvvtFxU33kmHDh1MrdO3b1957rnnREcTFqxu3boyePBgO16zZo1APYW5k4YNGwo6OR0RSqNGjWT27NmCOScIZB2dyEEHHWRqP0RMVlcdiYmOQk2dpiNLGT9+vDRp0sTyie18kce0adNMPQaVYqtWrUydiDwgiCAkUKZ7771XtthiC4G60XP63ipvv/22QHXXvHlzE6j+Thp1XrdunTH04iT6PeaYY0RHHTYngzRRFr+74447ZOzYscbB7+8dr1y5UiZOnChoQ8zNgT1+/e63336Tp59+2uYhUU+U319eLyza4q233rK5vRNOOCHCw7vO35ATCOaAjaXKhECmarrYtOOp6bww2qE6qL90fsmpXt/VqlXL9e/f37vsdG7JaWfuVKi4BQsWuKZNmzqdg7DrOnIxtZk+Yu7oo4+2eDq34w444ACnowA3YcIEd+KJJ1oYqKf07dipUIuknejgjz/+cCoETK2j8yPukUceKRFUJ+UdVD7IW4WvUwHgoArSyXHz03kNpwLB1axZ06nwtPjJ6vrCCy845IX0UGcdNbojjjjCzqE29LuRI0faNag6Z8yY4apWrerUuMJ17NjRzZ07173//vtOhbqlh3LhHO7kk092KizdOeec43S+zsqH/K699lp/8m7LLbd0Ok8W5RfvBOXSuRt31113WTlVMEUFUyMDB5UaHMqHcvqdjkDdrrvu6p555hkHdeeIESOs/f3qxfnz57u9997bqfA1NbEKV6ejarf99ttHktIXA3f66ac7FXoOaR577LGufv367pNPPomEwTHqev/990f80jmgmi4dSoURBm8xdAVOoKyEkb4Vm+5fLaQihNBJotPQkYz5bbvtttZ5egGOOuoo6/C9c/yqusg6LG8+AkKqSpUqTi22nOcHAYPOMLbj9afjP/75559dp06drCwoj1phlZhDQseHaw888EAk6pdffml+e+21l9PRhXWyarTh0qnrJZdcYnH1DT+SHtJp2bJl5Hz58uVOVV7uoYceivjpqMdtsskmJrA9T3DSEYZ3ar8QRujIdeQY8Ufa/vRxAQIbgiSV84QRGKPzxzwb6u85CAUdqdhprDCCANlhhx3csGHDvOD2q0YO1k6eIEEbQth7Di8lmC/yCyMIsSuuuMILYu2EdoFw9hyFkUcivL+ZKXb1DqILDwGob/766y8ZMmSI6Nu6/cH6Dqqjr776ykDom7+oALFjqK6gytIOLwrSxhtvbHG8+YjatWubamq77bYTz09HKKb+0dFVVNxEJ1C9wRwZZYT12OTJk2XPPfcUzCfFOr/KCCoxuC5dugjmaBBXO2pLJ1VdvbJqJx3JApZnixYtipx///33oiMiU2l6nvvvv7/AfBpmz37nL5fnjzy0I/dOZZdddpGvv/46co4DmF1DXZquQ5qw1INK9JZbbrFo3377rVlOxqrtvDShltVRTwm1qQoQU3GqgDc1JNRu7du396KZek5HSlFqOuSpo7/IPXT99deb5SPUe3Qk4BHgnJFHgr8lCOjbqs2xqJqnxDXPQ1VG8uqrr9oaEcwJQVCpKsq7nPAXBhKxTkdLoiMk80Ynd+6550YF0TdsQR5+16NHDzn00ENF1X02P4T5MAgmv/N3+t7cTqyxQDp19afpHSMdfZf1TgWCCvNSYPKf//zH/HUUZ506hLDf+cvl9/cfY2IfhhildXiZwLqfMWPGyFVXXSV33nmnqPVkwmTxYgGnatmoMKpitXPMIXlzdRCYfuevF4Qw5uFUTRc1L+YPz2MSAAEKI94HCQmgo4WxARYlQlDEc5dffrmtU8JkO97AdX4hXrASfv4Oy3/R84dhQKwwwmJMjJxgKOFZiSEuRjYPPvigNGvWTDBSQweoarFIsl6aEY84B+nUNU60El7IC4s3VQUmEIyqYrNR5OOPPx43bAnPMvLAWqxTTz3VhBCsDrHINNmiVBiDwMGwxBNAON96663tXsACY8+aES8OsUYNHnNP+GMtkd9IA2nRkYCfANV0fhohPfa/2fsR7L777jZSGTVqlN/bOnsslIRggIrupJNOiqjboArKhcPoAtZy/j90eBA8559/vsBazu9wTdfLmJc36vI6xHRGFqnq6s8r1TFUjmeddZaNBmCp9+KLLwoEqd+hbOmUyx8n02O8RPg5wdIQQhdqM5jte4IiXrreDgwQWn738ccf28sJdrlQ4wa7BKvBRA4qWrwk3HPPPaby9Yd77LHHolSc/ms8Dh8BCqPwtXmJGmMkAaeT71HXYH6LTh4m3jfddJOZ92KlvC4yFF2gGZkDwWp7vCW//vrr9sa9bNkyuwazYAg6qN78nSIywfxJ7JwBwmG+JZmDqksn5OXMM8+MShNv3lAtoVze3A4EGhze7lEOjKg8NSB2GvC7VHVFWG8kALNwzyEd1M0T6LgG8+eNNtpIUH+wgEm8d92Lh7Jh/u2bb76xOSGUC1sZgYufFRihvn4uZ599tpl7e2kl+kW+/jVWEAowqceo5+STT45Eg1BEWVF2lAkOwhkvAhBG/jkxbPODuT7cAzCVh1oS2zJ5QgsqOezogbzBGyboGCHi/OCDD7aRK+aP1KDB7jeMgOG8ey92Xs0u8l84COhDQlfgBLK1ptPOx+k6E9tpQe92s3qDNZtOmEeIaAdvllG4jj+dHzAzby+Aqn7MJBtWdTqCcrrexKyttONx2hG6a665xuLBLBpmxrBag4UW0lLBYvnD2ktVR+YHqzO/6bCXj/8X5rwwU4Z5tE7Mm+k5TJ1hcq6duj+oQ1jkpZPsZt7dp08fO1cDCKfbzzgw8Fyyuqr6z6zEkBbMlH/88UczVdY3f0vvyiuvNNNm7IKh66XMD2G9P1gU+q36YNINU3bUF6bgMHtWIWHhsYsELA5VtWcm3EhDXwicCikr6m677WYm9LAGjOe043e6oNbM1sEF5vRqnGFBYVp+2WWXRaKpEHHY+cErJ0zfp06datcRB2bmO++8s9O5JjO7VsMPp8IpEl9Hx2YpifiwooO1HawHdWG109GQ5QsLO5QB9UU4/MIyUYWgpQOLPljW4ZoaoThd1xRJP9UBTbtTESqc6xVQVL0J6AqYABZB6joeU59gwrssHKyvoFry3mT9eeCt2j85jzd7T1XmD5erYxUEZiSA9GC9h9EJ3tZjJ9txHbc33tZhaJGuS1bXVGmg7jBcgMEARjoYTcFKDyOOq6++2iwNvfk3jAagKvOzS5U+riMPtIWawqcTvNRhUE4YeKDtPaOF2ESxpyHUkxgRYnQTry3AASNBjNAQNhcOxiswmsHiYbrCJlA2PVdhM2Hp4xDAxHUiF9uZlqUgQhk89RuOoUbEXyKHTjsTQYR0ktU1UT6eP9SEmE9p2rSp/Xn++IXKzf+ygO16snFlzTe2TCgnzNOTOZjIey6eIMI1qE91lOUF4y8JRBGgMIrCwRMSKB0BWJZh5AaBhPkUCB+YumN7IBhYQDjSkQAJlCRAA4aSTOhDAlkT0C2OTGWI9U8wFMD+d0888YSZNUOVSkcCJBCfAEdG8bnQlwSyIoAFoFjzBAfrtPKa18mqsIxEAgEiwJFRgBqDRSkuAhRExdWerE3ZEqAwKlu+TJ0ESIAESCANAhRGaUBiEBIgARIggbIlQGFUtnyZOgmQAAmQQBoEKIzSgMQgJEACJEACZUuAwqhs+TJ1EiABEiCBNAhQGKUBiUFIgARIgATKlgCFUdnyZeokQAIkQAJpEKAwSgMSg5AACZAACZQtAQqjsuXL1EmABEiABNIgQGGUBiQGIQESIAESKFsCFEZly5epkwAJkAAJpEGAG6WmAalQgngfbSuU8rKcJJALAvi4Hl3hE+CXXgu/DeX777+37+UUQVUKrgr66W/RT23LkCFDpFWrVgVX/mIosH7uXFq2bFkMVQl1HSiMQt38rHxpCeAzEfjy6vjx46Vbt26lTY7xSSC0BDhnFNqmZ8VJgARIIDgEKIyC0xYsCQmQAAmElgCFUWibnhUnARIggeAQoDAKTluwJCRAAiQQWgIURqFtelacBEiABIJDgMIoOG3BkpAACZBAaAlQGIW26VlxEiABEggOAQqj4LQFS0ICJEACoSVAYRTapmfFSYAESCA4BCiMgtMWLAkJkAAJhJYAhVFom54VJwESIIHgEKAwCk5bsCQkQAIkEFoCFEahbXpWnARIgASCQ4DCKDhtwZKQAAmQQGgJUBiFtulZcRIgARIIDgEKo+C0BUtCAiRAAqElQGEU2qZnxUmABEggOAQojILTFiwJCZAACYSWAIVRaJueFScBEiCB4BCgMApOW7AkJEACJBBaAhRGoW16VpwESIAEgkOAwig4bcGSkAAJkEBoCVAYhbbpWXESIAESCA4BCqPgtAVLQgIkQAKhJUBhFNqmZ8VJgARIIDgEKIyC0xYsCQmQAAmElgCFUWibnhUnARIggeAQoDAKTluwJCRAAiQQWgIURqFtelacBEiABIJDgMIoOG3BkpAACZBAaAlQGIW26VlxEiABEggOAQqj4LQFS0ICJEACoSVQObQ1Z8VJIAsCixcvFudcJObatWvt+JdffpFFixZF/HGw+eabS9WqVaP8eEICJBCfQAV9sDY8WfHD0JcESOD/CbRv315mzJiRkgeE0JIlS6ROnTopwzIACZCACNV0vAtIIAMCPXv2TBm6YsWK0rlzZwqilKQYgAQ2EKAw2sCCRySQksAxxxwjlSpVShoOyobevXsnDcOLJEAC0QQojKJ58IwEkhKoW7eudOjQIalAqlGjhnTp0iVpOrxIAiQQTYDCKJoHz0ggJYE+ffrIP//8Ezdc5cqVBaOn6tWrx71OTxIggfgEKIzic6EvCSQk0K1bt4RWcuvWrZNevXoljMsLJEAC8QlQGMXnQl8SSEigZs2a0r17d8EoKNZtuummcuihh8Z685wESCAFAQqjFIB4mQTiEcDoB6Mgv6tSpYrA2i6VgYM/Do9JgAT+JcB1RrwTSCALAn///bfUq1dPVq5cGRV71qxZsv/++0f58YQESCA1AY6MUjNiCBIoQQCjoB49egh+PdeoUSNp3bq1d8pfEiCBDAhQGGUAi0FJwE8AqjqMkOAglPr27SsVKlTwB+ExCZBAmgSopksTFIORQCwBmHdj/znsSwc3b9482XXXXWOD8ZwESCANAhwZpQGJQUggHgFs+4M1R3DbbbcdBVE8SPQjgTQJlLRNTTMigxUegdGjR8uUKVMKr+ABLvGyZcusdNWqVZPjjz8+wCUtvKLVr19f7r777sIrOEucFQGOjLLCVpiR5s6dKzNnzizMwge01FhXVLt2bWnSpElAS1iYxfr8889lwoQJhVl4ljorAhwZZYWtcCPttttuMm7cuMKtQABL/vLLL0unTp0CWLLCLdLNN98sI0eOLNwKsOQZE+DIKGNkjEAC0QQoiKJ58IwEsiFAYZQNNcYhARIgARLIKQEKo5ziZGIkQAIkQALZEKAwyoYa45AACZAACeSUAIVRTnEyMRIgARIggWwIUBhlQ41xSIAESIAEckqAwiinOJkYCZAACZBANgQojLKhxjgkQAIkQAI5JUBhlFOcTIwESIAESCAbAhRG2VBjHBIgARIggZwSoDDKKU4mRgIkQAIkkA0BCqNsqDEOCZAACZBATglQGOUUJxMjARIgARLIhgCFUTbUGIcESIAESCCnBCiMcoqTiZEACZAACWRDgN8zyoYa46RFYNWqVTJ16lT54IMP5IorrkgrTiEEWrlypTzxxBOyYMEC2XbbbaVnz55Ss2bNrIq+du1aefTRR+Wjjz6SrbbaStq2bSv4YN/SpUuldevWaadZrKzTBsCABU+AI6OCb8LgVuDpp5+W008/XcaOHRvcQmZYMnyBdPvttxd8/O3WW2+Vfv36CT5Y+NNPP2WYksiff/4p++yzjzz11FPStWtXqVevngwdOlRatGghc+bMySi9YmSdEQAGLngCFEYF34TBrcDJJ58srVq1SquAv/zyi+CLqeXlss3v/PPPl1deeUW++OIL+e6770zYfv3113LZZZdlXPTbb7/dRkT333+/HHLIIQJe06ZNMwH3ww8/ZJReJqwfeeSRjNIubeDyzq+05WX8/BCgMMoP99DkWqlSJalQoULS+q5fv95UXQsXLkwaLlcXs81v7ty50qtXLxsJoSwNGjSQq6++WipWrCizZ8/OuHhQX/7zzz+yYsWKqLg33HCDqemiPNM4SYf19OnT5dJLL00jtdwEKe/8clNqppIPApwzygf1AspzyZIlMmHCBMFv8+bNZa+99pIaNWrIs88+K3///bccdthhsvPOOws6nQ8//NBqdvTRR0uTJk1K1BIdNkYVUGsdc8wxdn3NmjXWwU+ZMkUaNmxogqtbt27SqFEj6+Axp7LjjjvKww8/LAcddJCptRARI5M333xT5s2bJ23atJHu3btH5Yc5lOeff16gVtt1112lY8eOUqdOHUmWX1QCcU6aNm1q9fdfQjlbtmwplStveJR+/fVXue++++TUU0+VzTbbzB886rhDhw4ybtw46du3rzz33HPSuHFju163bl0ZPHiwHf/44485Y402OvLII43xvffeK1tssYWpB5ER2iYe67/++ktmzJgh7733nkDY9e7dW7bccksrm/cvEetk+Xlx+UsCEQKOLjQEzjjjDHfooYemXd9ly5Y57WidTti7devWuRNPPNHp/IbF107U6U3kVMUUSe+qq64yPxU4Eb8uXbq4Zs2auSOOOMLhWAWLhTnppJMszO+//+604za/iy66yGkH5lSoucMPP9z8Bg4c6LQDdWog4FTgWBydq3EqmJyOKpwaETgVEu7uu++O5PnZZ59ZfKSjAtPKrfMxTtVpLl5+qGdp3Oabb+50hBRJwqvPyJEjI37xDv744w+nQtvqqaMsp+qseMFcrli///77TgW3Q17gjHMdjSZkjXZXwWNh0f7XXHON23rrrZ3OdUXKmYx1vPwiEVMcjBgxwtikCMbLRURAiqgurEoKApkKozvuuMO1a9cukuo333zj1IrMzj/++GPrRP3C6IUXXjC/WGFUtWpVN3/+fIsHAQLhAkE2ceJE81N1lZ0/8MADkby+/PJL89ORmAlCHZk5neex62rB5s4555xI2KOOOso6VHig09xjjz3c6NGjI9dVveZQhhdffNH84uUXCZzhwcyZM52OaExge1F1pOAef/xxp+o3zyvh788//+w6depkdQUTHWm6xYsXR4XPJWuwUqu9qPQTsX7sscecqiCdGmdYeI/b22+/befpsI6XX1TmCU4ojBKAKWJvzhlFxog8iCWwww47iHa2oqMYwYS/jnAEKrhMHdR4sBCDw/zR2WefbcdQ//mdf24JKiQ4HU2ZegjzM/Xr1zc/qI2uvfZaO/70009FO2/RDtXOVcCZKTnieQ6qRZhj6+jM87Jff35RF9I8wdzTsGHDRIWw1KpVKxJro402sjmw2rVrR/wSHUA1OWnSJLM4RB0nT54se+65p9UhUZxk/umwjq13ItY6EhYVhKZqXL16td0LyDtT1rH5JSs/r4WXAIVReNs+Zc0PPvhgufDCC21NDeaLHnroIalWrVrKeKkC7LfffjbpH2sx5u+0YBQAh3mKWIc5C307F1XhiaqJbC4LhgBwmLeCMEDH7nc6MvKf2rE/vxIX0/AAG8ztQHiU1vXo0UMgWFWNKphzUpVlaZO0+PFYx9Y7EWv4Y84LAveWW26xuTskminr2PxyUjEmUnQEKIyKrklzVyF0RjfddJMZHWCiHhPyw4cPL3UGG2+8sY0kttlmm6i00u20Lr/8chsZoSwwhPALLHSUOhdjBhVRicc5STe/OFFF1YAmhGBskY3TuS4ZP358VFSM/B588EGrD0Z/Or8VdT2bk3is0603yghBi7VQsMDT+aKoIqTLOt38ohLnSegIUBiFrsnTr7DO4dhbMCzmdDLa1sLoPJIl4FmPQX2TqUNaMGfu3LmzRfU6K6i9Ujl0kFDRQXUIqz44700dx7Ccg8MOCX6HHQ1gsQaXSX7+NLxjpKOqe+nTp4/nZb9QaabrIHiwZgnWfX6HXRg8laY3Cs0163Q4o0xXXnmlWUx66k0/Z1xPl3W6+SFNuvASoDAKb9unrDnmBjCHAYftbnQyOjJvg10IYOr85JNPyrfffitqoGA7CSAshI2/44Lpr/8cOw6ccMIJJtwQHqMuOOw6gE4e5toY3cBBZeV3SAsO+UKgvf766/Laa6+JWsQJrrVv397e5mEKftZZZ9l2RNgpAaM6tdCzuPHyswtp/IMJOkZkMGu/88477Q+LV88880wrN5LAeiSMJjC6SeQwn4QdGBDPL5CwLRDUdTCh9oRtrlljtwg1RhEs1gXnRKzhD9NyzMOhHdRi0aoD9SpGbRgVYuSUinVsfomY0D/kBIrYOINViyGQqTWdzhU4NWJwsKqDFR3MrHW9SSRVWNJtsskmTifvzXzasywbNGiQ0/U9Fu7VV1912mGZSbm+aTvtfN1//vMfM7mOJKQHugOBWZSpMDFTYh112LlO8LvbbrvN6RqYSHAVLE5HCw5WdaNGjXK6FY5Zy+kcl9MRkNOdEcwqTUdADn8wA4ef3/nzU2Hqv5TwGFZ5Oh8VsXzTriNyXL16dcsbkZ955hnLFybeyRzKoGpGM7ceMGCA062FHEzQ+/fv71QQREXNFWuYdIMd2g2m52inRKx17ZGZcusIzczqFy1aZKb+unee0/lDK18q1rH5RVUqyQmt6ZLAKdJLFVCvkMvj0FQfb+F4I/ZGO6kqrqa7tpgTC16hMsKi0VgHNR1GCXjTxy/mb7wJcX9YLJ7E2zXUUPEcbkO8cccuqIwXFn6wjvNbq2F04am1vDh4e8eIDItIY12m+cXGT3WOURvma5I5jDq8URosAsFnu+22i7LM88fPFevly5dbG/n5+fPxH4Mf2g5GIXDghnaONQhJxjqT/Ly8sfefCksbdXt+/C1uAhuWjRd3PVm7LAh4cxUwP07kdEQg+IOrUqVKomCmckokiBAJ8zjpCiKEj+1IYwURwujbP37iOn9+MDGPNTOPjYSyZbL/XCpBhPQ9QYRjsEnGB2FyxTreSwXSj+fwYuEJIlwHt1hBBP9krDPJD2nRhZMAhVE425219hFopuunMNeUzLFDTUaH10ig9AQojErPkCkUOIGddtpJ8EdHAiSQPwK0pssfe+ZMAiRAAiTw/wQojHgrkAAJkAAJ5J0AhVHem4AFIAESIAESoDDiPUACJEACJJB3AhRGeW8CFoAESIAESIDCiPcACZAACZBA3glQGOW9CVgAEiABEiABCiPeAyRAAiRAAnknQGGU9yZgAUiABEiABCiMeA+QAAmQAAnknQCFUd6bgAUgARIgARKgMOI9QAIkQAIkkHcCFEZ5bwIWgARIgARIgLt2h+wewCe9jz/++JDVmtUtNAL6BdpCKzLLW0oCFEalBFhI0Vu2bCnLli0rpCKzrCEl0KJFC6lfv35Iax/OavOz4+Fsd9aaBEiABAJFgHNGgWoOFoYESIAEwkmAwiic7c5akwAJkECgCFAYBao5WBgSIAESCCcBCqNwtjtrTQIkQAKBIvB/Bjc2KkM72SkAAAAASUVORK5CYII=)"
      ]
    },
    {
      "cell_type": "markdown",
      "metadata": {
        "id": "CvBb48r-6QUq",
        "colab_type": "text"
      },
      "source": [
        "`Define a model with the two teams as inputs and use the score difference as the output.\n",
        "Compile the model with the 'adam' optimizer and 'mean_absolute_error' loss.`"
      ]
    },
    {
      "cell_type": "code",
      "metadata": {
        "id": "ugVEr9Cy6R3t",
        "colab_type": "code",
        "colab": {}
      },
      "source": [
        "# Imports\n",
        "from keras.layers import Subtract\n",
        "from keras.models import Model\n",
        "\n",
        "# Subtraction layer from previous exercise\n",
        "score_diff = Subtract()([team_1_strength, team_2_strength])\n",
        "\n",
        "# Create the model\n",
        "model = Model([team_in_1, team_in_2], score_diff)\n",
        "\n",
        "# Compile the model\n",
        "model.compile(optimizer='adam', loss='mean_absolute_error')"
      ],
      "execution_count": null,
      "outputs": []
    },
    {
      "cell_type": "markdown",
      "metadata": {
        "id": "Ei8m-6CE69ER",
        "colab_type": "text"
      },
      "source": [
        "Fit the model to the regular season training data\n",
        "Now that you've defined a complete team strength model, you can fit it to the basketball data! Since your model has two inputs now, you need to pass the input data as a list.\n",
        "`Assign the 'team_1' and 'team_2' columns from games_season to input_1 and input_2, respectively.\n",
        "Use 'score_diff' column from games_season as the target.\n",
        "Fit the model using 1 epoch, a batch size of 2048, and a 10% validation split.\n",
        "`"
      ]
    },
    {
      "cell_type": "code",
      "metadata": {
        "id": "rE3-8az-8D8Q",
        "colab_type": "code",
        "colab": {}
      },
      "source": [
        "# Get the team_1 column from the regular season data\n",
        "input_1 = games_season['team_1']\n",
        "\n",
        "# Get the team_2 column from the regular season data\n",
        "input_2 = games_season['team_2']\n",
        "\n",
        "# Fit the model to input 1 and 2, using score diff as a target\n",
        "model.fit([input_1,input_2],\n",
        "          games_season['score_diff'],\n",
        "          epochs=1,\n",
        "          batch_size=2048,\n",
        "          validation_split=0.1,\n",
        "          verbose=True)"
      ],
      "execution_count": null,
      "outputs": []
    },
    {
      "cell_type": "markdown",
      "metadata": {
        "id": "JSeTU6P68Gvh",
        "colab_type": "text"
      },
      "source": [
        "Evaluate the model on the tournament test data\n",
        "The model you fit to the regular season data (model) in the previous exercise and the tournament dataset (games_tourney) are available in your workspace.\n",
        "\n",
        "In this exercise, you will evaluate the model on this new dataset. This evaluation will tell you how well you can predict the tournament games, based on a model trained with the regular season data. This is interesting because many teams play each other in the tournament that did not play in the regular season, so this is a very good check that your model is not overfitting.\n",
        "`Assign the 'team_1' and 'team_2' columns from games_tourney to input_1 and input_2, respectively.\n",
        "Evaluate the model.\n",
        "`"
      ]
    },
    {
      "cell_type": "code",
      "metadata": {
        "id": "QHDgvHF68KCf",
        "colab_type": "code",
        "colab": {}
      },
      "source": [
        "# Get team_1 from the tournament data\n",
        "input_1 = games_tourney['team_1']\n",
        "\n",
        "# Get team_2 from the tournament data\n",
        "input_2 = games_tourney['team_2']\n",
        "\n",
        "# Evaluate the model using these inputs\n",
        "print(model.evaluate([input_1,input_2], games_tourney['score_diff'], verbose=False))"
      ],
      "execution_count": null,
      "outputs": []
    },
    {
      "cell_type": "markdown",
      "metadata": {
        "id": "TqLlzdBd8mjz",
        "colab_type": "text"
      },
      "source": [
        "Make an input layer for home vs. away\n",
        "Now you will make an improvement to the model you used in the previous chapter for regular season games. You know there is a well-documented home-team advantage in basketball, so you will add a new input to your model to capture this effect.\n",
        "\n",
        "This model will have three inputs: team_id_1, team_id_2, and home. The team IDs will be integers that you look up in your team strength model from the previous chapter, and home will be a binary variable, 1 if team_1 is playing at home, 0 if they are not.\n",
        "\n",
        "The team_strength_model you used in the previous chapter has been loaded into your workspace. After applying it to each input, use a Concatenate layer to join the two team strengths and with the home vs away variable, and pass the result to a Dense layer.\n",
        "`Create three inputs layers of shape 1, one each for team 1, team 2, and home vs away.\n",
        "Lookup the team inputs in team_strength_model().\n",
        "Concatenate the team strengths with the home input and pass to a Dense layer.`"
      ]
    },
    {
      "cell_type": "code",
      "metadata": {
        "id": "fFOfjeLABP3J",
        "colab_type": "code",
        "colab": {}
      },
      "source": [
        "# Create an Input for each team\n",
        "team_in_1 = Input(shape=(1,), name='Team-1-In')\n",
        "team_in_2 = Input(shape=(1,), name='Team-2-In')\n",
        "\n",
        "# Create an input for home vs away\n",
        "home_in = Input(shape=(1,), name='Home-In')\n",
        "\n",
        "# Lookup the team inputs in the team strength model\n",
        "team_1_strength = team_strength_model(team_in_1)\n",
        "team_2_strength = team_strength_model(team_in_2)\n",
        "\n",
        "# Combine the team strengths with the home input using a Concatenate layer, then add a Dense layer\n",
        "out = Concatenate()([team_1_strength, team_2_strength, home_in])\n",
        "out = Dense(1)(out)"
      ],
      "execution_count": null,
      "outputs": []
    },
    {
      "cell_type": "markdown",
      "metadata": {
        "id": "557Dg46OBR-A",
        "colab_type": "text"
      },
      "source": [
        "Make a model and compile it\n",
        "Now that you've input and output layers for the 3-input model, wrap them up in a Keras model class, and then compile the model, so you can fit it to data and use it to make predictions on new data.\n",
        "`Create a model using team_in_1, team_in_2, and home_in as inputs and out as the output.\n",
        "Compile the model using the 'adam' optimizer and 'mean_absolute_error' as the loss function.`"
      ]
    },
    {
      "cell_type": "code",
      "metadata": {
        "id": "d1hnZ9eYBuaa",
        "colab_type": "code",
        "colab": {}
      },
      "source": [
        "# Import the model class\n",
        "from keras.models import Model\n",
        "\n",
        "# Make a Model\n",
        "model = Model([team_in_1, team_in_2, home_in], out)\n",
        "\n",
        "# Compile the model\n",
        "model.compile(optimizer='adam', loss='mean_absolute_error')"
      ],
      "execution_count": null,
      "outputs": []
    },
    {
      "cell_type": "markdown",
      "metadata": {
        "id": "lDB38s76Bwa6",
        "colab_type": "text"
      },
      "source": [
        "Fit the model and evaluate\n",
        "Now that you've defined a new model, fit it to the regular season basketball data.\n",
        "\n",
        "Use the model you fit in the previous exercise (which was trained on the regular season data) and evaluate the model on data for tournament games (games_tourney).\n",
        "`Fit the model to the games_season dataset, using 'team_1', 'team_2' and 'home' columns as inputs, and the 'score_diff' column as the target.\n",
        "Fit the model using 1 epoch, 10% validation split and a batch size of 2048.\n",
        "Evaluate the model on games_tourney, using the same inputs and outputs.\n",
        "`"
      ]
    },
    {
      "cell_type": "code",
      "metadata": {
        "id": "mhKjCrXdB4D6",
        "colab_type": "code",
        "colab": {}
      },
      "source": [
        "# Fit the model to the games_season dataset\n",
        "model.fit([games_season['team_1'], games_season['team_2'], games_season['home']],\n",
        "          games_season['score_diff'],\n",
        "          epochs=1,\n",
        "          verbose=True,\n",
        "          validation_split=0.1,\n",
        "          batch_size=2048)\n",
        "\n",
        "# Evaluate the model on the games_tourney dataset\n",
        "print(model.evaluate([games_tourney['team_1'], games_tourney['team_2'], games_tourney['home']], games_tourney['score_diff'], verbose=False))"
      ],
      "execution_count": null,
      "outputs": []
    },
    {
      "cell_type": "markdown",
      "metadata": {
        "id": "s71p0GVyDKM8",
        "colab_type": "text"
      },
      "source": [
        "Plotting models\n",
        "In addition to summarizing your model, you can also plot your model to get a more intuitive sense of it. Your model is available in the workspace.\n",
        "`Save the model plot to the file 'model.png'.\n",
        "Import and display 'model.png' into Python using matplotlib.`"
      ]
    },
    {
      "cell_type": "code",
      "metadata": {
        "id": "fBiCJPkwGqIm",
        "colab_type": "code",
        "colab": {}
      },
      "source": [
        ""
      ],
      "execution_count": null,
      "outputs": []
    },
    {
      "cell_type": "markdown",
      "metadata": {
        "id": "Ic0iQ8ujI3_q",
        "colab_type": "text"
      },
      "source": [
        "Add the model predictions to the tournament data\n",
        "In lesson 1 of this chapter, you used the regular season model to make predictions on the tournament dataset, and got pretty good results! Try to improve your predictions for the tournament by modeling it specifically.\n",
        "\n",
        "You'll use the prediction from the regular season model as an input to the tournament model. This is a form of \"model stacking.\"\n",
        "\n",
        "To start, take the regular season model from the previous lesson, and predict on the tournament data. Add this prediction to the tournament data as a new column.\n",
        "`Use the model to predict on the games_tourney dataset. The model has three inputs: 'team_1', 'team_2', and 'home' columns. Assign the predictions to a new column, 'pred'.`"
      ]
    },
    {
      "cell_type": "code",
      "metadata": {
        "id": "rBVMRSvNI60O",
        "colab_type": "code",
        "colab": {}
      },
      "source": [
        "# Predict\n",
        "games_tourney['pred'] = model.predict([games_tourney['team_1'],games_tourney['team_2'],games_tourney['home']])"
      ],
      "execution_count": null,
      "outputs": []
    },
    {
      "cell_type": "markdown",
      "metadata": {
        "id": "H80WUzk_I81E",
        "colab_type": "text"
      },
      "source": [
        "Create an input layer with multiple columns\n",
        "In this exercise, you will look at a different way to create models with multiple inputs. This method only works for purely numeric data, but its a much simpler approach to making multi-variate neural networks.\n",
        "\n",
        "Now you have three numeric columns in the tournament dataset: 'seed_diff', 'home', and 'pred'. In this exercise, you will create a neural network that uses a single input layer to process all three of these numeric inputs.\n",
        "\n",
        "This model should have a single output to predict the tournament game score difference.\n",
        "`Create a single input layer with 3 columns.\n",
        "Connect this input to a Dense layer with 1 unit.\n",
        "Create a model with input_tensor as the input and output_tensor as the output.\n",
        "Compile the model with 'adam' as the optimizer and 'mean_absolute_error' as the loss function.`"
      ]
    },
    {
      "cell_type": "code",
      "metadata": {
        "id": "088_PqY7JQRs",
        "colab_type": "code",
        "colab": {}
      },
      "source": [
        "# Create an input layer with 3 columns\n",
        "input_tensor = Input((3,))\n",
        "\n",
        "# Pass it to a Dense layer with 1 unit\n",
        "output_tensor = Dense(1)(input_tensor)\n",
        "\n",
        "# Create a model\n",
        "model = Model(input_tensor, output_tensor)\n",
        "\n",
        "# Compile the model\n",
        "model.compile(optimizer='adam', loss='mean_absolute_error')"
      ],
      "execution_count": null,
      "outputs": []
    },
    {
      "cell_type": "markdown",
      "metadata": {
        "id": "L1DdYmx1JRXk",
        "colab_type": "text"
      },
      "source": [
        "Fit the model\n",
        "Now that you've enriched the tournament dataset and built a model to make use of the new data, fit that model to the tournament data.\n",
        "\n",
        "Note that this model has only one input layer that is capable of handling all 3 inputs, so it's inputs and outputs do not need to be a list.\n",
        "\n",
        "Tournament games are split into a training set and a test set. The tournament games before 2010 are in the training set, and the ones after 2010 are in the test set.\n",
        "`Fit the model to the games_tourney_train dataset using 1 epoch.\n",
        "The input columns are 'home', 'seed_diff', and 'pred'.\n",
        "The target column is 'score_diff'.`"
      ]
    },
    {
      "cell_type": "code",
      "metadata": {
        "id": "TLaTfxPlJ3KQ",
        "colab_type": "code",
        "colab": {}
      },
      "source": [
        "# Fit the model\n",
        "model.fit(games_tourney_train[['home', 'seed_diff', 'pred']],\n",
        "          games_tourney_train['score_diff'],\n",
        "          epochs=1,\n",
        "          verbose=True)"
      ],
      "execution_count": null,
      "outputs": []
    },
    {
      "cell_type": "markdown",
      "metadata": {
        "id": "4D69wVx8J5na",
        "colab_type": "text"
      },
      "source": [
        "Evaluate the model\n",
        "Now that you've fit your model to the tournament training data, evaluate it on the tournament test data. Recall that the tournament test data contains games from after 2010.\n",
        "`Evaluate the model on the games_tourney_test data.\n",
        "Recall that the model's inputs are 'home', 'seed_diff', and 'prediction' columns and the target column is 'score_diff'`"
      ]
    },
    {
      "cell_type": "code",
      "metadata": {
        "id": "GxcVVixuKPwj",
        "colab_type": "code",
        "colab": {}
      },
      "source": [
        "# Evaluate the model on the games_tourney_test dataset\n",
        "print(model.evaluate(games_tourney_test[['home','seed_diff','prediction']],\n",
        "               games_tourney_test['score_diff'], verbose=False))"
      ],
      "execution_count": null,
      "outputs": []
    },
    {
      "cell_type": "markdown",
      "metadata": {
        "id": "3vEQr9IlKRw6",
        "colab_type": "text"
      },
      "source": [
        "Simple two-output model\n",
        "In this exercise, you will use the tournament data to build one model that makes two predictions: the scores of both teams in a given game. Your inputs will be the seed difference of the two teams, as well as the predicted score difference from the model you built in chapter 3.\n",
        "\n",
        "The output from your model will be the predicted score for team 1 as well as team 2. This is called \"multiple target regression\": one model making more than one prediction.\n",
        "`Create a single input layer with 2 columns.\n",
        "Connect this input to a Dense layer with 2 units.\n",
        "Create a model with input_tensor as the input and output_tensor as the output.\n",
        "Compile the model with 'adam' as the optimizer and 'mean_absolute_error' as the loss function.`"
      ]
    },
    {
      "cell_type": "code",
      "metadata": {
        "id": "gSQBKpBKMLc5",
        "colab_type": "code",
        "colab": {}
      },
      "source": [
        "# Define the input\n",
        "input_tensor = Input((2,))\n",
        "\n",
        "# Define the output\n",
        "output_tensor = Dense(2)(input_tensor)\n",
        "\n",
        "# Create a model\n",
        "model = Model(input_tensor,output_tensor)\n",
        "\n",
        "# Compile the model\n",
        "model.compile(optimizer='adam',loss='mean_absolute_error')"
      ],
      "execution_count": null,
      "outputs": []
    },
    {
      "cell_type": "markdown",
      "metadata": {
        "id": "2eKG_J-NMNrv",
        "colab_type": "text"
      },
      "source": [
        "Fit a model with two outputs\n",
        "Now that you've defined your 2-output model, fit it to the tournament data. I've split the data into games_tourney_train and games_tourney_test, so use the training set to fit for now.\n",
        "\n",
        "This model will use the pre-tournament seeds, as well as your pre-tournament predictions from the regular season model you built previously in this course.\n",
        "\n",
        "As a reminder, this model will predict the scores of both teams.\n",
        "`Fit the model to the games_tourney_train dataset using 100 epochs and a batch size of 16384.\n",
        "The input columns are 'seed_diff', and 'pred'.\n",
        "The target columns are 'score_1' and 'score_2'.`"
      ]
    },
    {
      "cell_type": "code",
      "metadata": {
        "id": "DbW5NQKqMwHH",
        "colab_type": "code",
        "colab": {}
      },
      "source": [
        "# Fit the model\n",
        "model.fit(games_tourney_train[['seed_diff', 'pred']],\n",
        "  \t\t  games_tourney_train[['score_1', 'score_2']],\n",
        "  \t\t  verbose=True,\n",
        "  \t\t  epochs=100,\n",
        "  \t\t  batch_size=16384)"
      ],
      "execution_count": null,
      "outputs": []
    },
    {
      "cell_type": "markdown",
      "metadata": {
        "id": "jeR4I97bMyfI",
        "colab_type": "text"
      },
      "source": [
        "nspect the model (I)\n",
        "Now that you've fit your model, let's take a look at it. You can use the .get_weights() method to inspect your model's weights.\n",
        "\n",
        "The input layer will have 4 weights: 2 for each input times 2 for each output.\n",
        "\n",
        "The output layer will have 2 weights, one for each output.\n",
        "`Print the model's weights.\n",
        "Print the column means of the training data (games_tourney_train).`"
      ]
    },
    {
      "cell_type": "code",
      "metadata": {
        "id": "8FJkKoSzNaA2",
        "colab_type": "code",
        "colab": {}
      },
      "source": [
        "# Print the model's weights\n",
        "print(model.get_weights())\n",
        "\n",
        "# Print the column means of the training data\n",
        "print(games_tourney_train.mean())"
      ],
      "execution_count": null,
      "outputs": []
    },
    {
      "cell_type": "markdown",
      "metadata": {
        "id": "d5LQNfvUNbkj",
        "colab_type": "text"
      },
      "source": [
        "Evaluate the model\n",
        "Now that you've fit your model and inspected it's weights to make sure it makes sense, evaluate it on the tournament test set to see how well it performs on new data.\n",
        "`Evaluate the model on games_tourney_test.\n",
        "Use the same inputs and outputs as the training set.\n",
        "`"
      ]
    },
    {
      "cell_type": "code",
      "metadata": {
        "id": "02bZ4EmyOSFf",
        "colab_type": "code",
        "colab": {}
      },
      "source": [
        "# Evaluate the model on the tournament test data\n",
        "print(model.evaluate(games_tourney_test[['seed_diff','pred']], games_tourney_test[['score_1','score_2']], verbose=False))"
      ],
      "execution_count": null,
      "outputs": []
    },
    {
      "cell_type": "markdown",
      "metadata": {
        "id": "FIRnnxmHOT2w",
        "colab_type": "text"
      },
      "source": [
        "Classification and regression in one model\n",
        "Now you will create a different kind of 2-output model. This time, you will predict the score difference, instead of both team's scores and then you will predict the probability that team 1 won the game. This is a pretty cool model: it is going to do both classification and regression!\n",
        "\n",
        "In this model, turn off the bias, or intercept for each layer. Your inputs (seed difference and predicted score difference) have a mean of very close to zero, and your outputs both have means that are close to zero, so your model shouldn't need the bias term to fit the data well.\n",
        "`Create a single input layer with 2 columns.\n",
        "The first output layer should have 1 unit with 'linear' activation and no bias term.\n",
        "The second output layer should have 1 unit with 'sigmoid' activation and no bias term. Also, use the first output layer as an input to this layer.\n",
        "Create a model with these input and outputs.`"
      ]
    },
    {
      "cell_type": "code",
      "metadata": {
        "id": "rLEqgFo-Qtyy",
        "colab_type": "code",
        "colab": {}
      },
      "source": [
        "# Create an input layer with 2 columns\n",
        "input_tensor = Input((2,))\n",
        "\n",
        "# Create the first output\n",
        "output_tensor_1 = Dense(1, activation='linear', use_bias=False)(input_tensor)\n",
        "\n",
        "# Create the second output (use the first output as input here)\n",
        "output_tensor_2 = Dense(1, activation='sigmoid', use_bias=False)(output_tensor_1)\n",
        "\n",
        "# Create a model with 2 outputs\n",
        "model = Model(input_tensor, [output_tensor_1, output_tensor_2])"
      ],
      "execution_count": null,
      "outputs": []
    },
    {
      "cell_type": "markdown",
      "metadata": {
        "id": "RpA_5A1aQu3e",
        "colab_type": "text"
      },
      "source": [
        "Compile and fit the model\n",
        "Now that you have a model with 2 outputs, compile it with 2 loss functions: mean absolute error (MAE) for 'score_diff' and binary cross-entropy (also known as logloss) for 'won'. Then fit the model with 'seed_diff' and 'pred' as inputs. For outputs, predict 'score_diff' and 'won'.\n",
        "\n",
        "This model can use the scores of the games to make sure that close games (small score diff) have lower win probabilities than blowouts (large score diff).\n",
        "\n",
        "The regression problem is easier than the classification problem because MAE punishes the model less for a loss due to random chance. For example, if score_diff is -1 and won is 0, that means team_1 had some bad luck and lost by a single free throw. The data for the easy problem helps the model find a solution to the hard problem.\n",
        "`mport Adam from keras.optimizers.\n",
        "Compile the model with 2 losses: 'mean_absolute_error' and 'binary_crossentropy', and use the Adam optimizer with a learning rate of 0.01.\n",
        "Fit the model with 'seed_diff' and 'pred' columns as the inputs and 'score_diff' and 'won' columns as the targets.\n",
        "Use 10 epochs and a batch size of 16384.`"
      ]
    },
    {
      "cell_type": "code",
      "metadata": {
        "id": "UklRNTmIRXUX",
        "colab_type": "code",
        "colab": {}
      },
      "source": [
        "# Import the Adam optimizer\n",
        "from keras.optimizers import Adam\n",
        "\n",
        "# Compile the model with 2 losses and the Adam optimzer with a higher learning rate\n",
        "model.compile(loss=['mean_absolute_error', 'binary_crossentropy'], optimizer=Adam(lr=0.01))\n",
        "\n",
        "# Fit the model to the tournament training data, with 2 inputs and 2 outputs\n",
        "model.fit(games_tourney_train[['seed_diff', 'pred']],\n",
        "          [games_tourney_train[['score_diff']], games_tourney_train[['won']]],\n",
        "          epochs=10,\n",
        "          verbose=True,\n",
        "          batch_size=16384)"
      ],
      "execution_count": null,
      "outputs": []
    },
    {
      "cell_type": "markdown",
      "metadata": {
        "id": "LjBp4NQLRYiE",
        "colab_type": "text"
      },
      "source": [
        "Inspect the model (II)\n",
        "Now you should take a look at the weights for this model. In particular, note the last weight of the model. This weight converts the predicted score difference to a predicted win probability. If you multiply the predicted score difference by the last weight of the model and then apply the sigmoid function, you get the win probability of the game.\n",
        "`Print the approximate win probability predicted for a close game (1 point difference).\n",
        "Print the approximate win probability predicted blowout game (10 point difference).`"
      ]
    },
    {
      "cell_type": "code",
      "metadata": {
        "id": "hUXch9b8Se0S",
        "colab_type": "code",
        "colab": {}
      },
      "source": [
        "# Import the sigmoid function from scipy\n",
        "from scipy.special import expit as sigmoid\n",
        "\n",
        "# Weight from the model\n",
        "weight = 0.14\n",
        "\n",
        "# Print the approximate win probability predicted close game\n",
        "print(sigmoid(1 * weight))\n",
        "\n",
        "# Print the approximate win probability predicted blowout game\n",
        "print(sigmoid(10 * weight))"
      ],
      "execution_count": null,
      "outputs": []
    },
    {
      "cell_type": "markdown",
      "metadata": {
        "id": "rjPJciXLSrqd",
        "colab_type": "text"
      },
      "source": [
        "Evaluate on new data with two metrics\n",
        "Now that you've fit your model and inspected its weights to make sure they make sense, evaluate your model on the tournament test set to see how well it does on new data.\n",
        "\n",
        "Note that in this case, Keras will return 3 numbers: the first number will be the sum of both the loss functions, and then the next 2 numbers will be the loss functions you used when defining the model.\n",
        "\n",
        "Ready to take your deep learning to the next level? Check out \"Convolutional Neural Networks for Image Processing\".\n",
        "`Evaluate the model on games_tourney_test.\n",
        "Use the same inputs and outputs as the training set.\n",
        "`"
      ]
    },
    {
      "cell_type": "code",
      "metadata": {
        "id": "B5HIXcXETfzp",
        "colab_type": "code",
        "colab": {}
      },
      "source": [
        "# Evaluate the model on new data\n",
        "print(model.evaluate(games_tourney_test[['seed_diff', 'pred']],\n",
        "               [games_tourney_test[['score_diff']], games_tourney_test[['won']]], verbose=False))"
      ],
      "execution_count": null,
      "outputs": []
    }
  ]
}